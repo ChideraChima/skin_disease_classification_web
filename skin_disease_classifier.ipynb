{
 "cells": [
  {
   "cell_type": "markdown",
   "id": "e2bdceeb-ca87-4cff-8956-8c6a99c304c4",
   "metadata": {},
   "source": [
    "# Skin Disease Classification"
   ]
  },
  {
   "cell_type": "code",
   "execution_count": 2,
   "id": "13dae00c-3880-40be-a5cc-ef83e5e11229",
   "metadata": {},
   "outputs": [],
   "source": [
    "# Emojis for use:\n",
    "emoji_1 = '⚠️' #caution/error\n",
    "emoji_2 = '✅' #completed\n",
    "emoji_3 = '🧼' #cleaning\n",
    "emoji_4 = '🔽' # downloading"
   ]
  },
  {
   "cell_type": "code",
   "execution_count": 1,
   "id": "01940620",
   "metadata": {},
   "outputs": [
    {
     "name": "stdout",
     "output_type": "stream",
     "text": [
      "yurrrrrrrr\n"
     ]
    }
   ],
   "source": [
    "print(\"yurrrrrrrr\")"
   ]
  },
  {
   "cell_type": "code",
   "execution_count": 2,
   "id": "ee6d9d6d-c13b-4b26-b529-562f0c053612",
   "metadata": {},
   "outputs": [
    {
     "name": "stdout",
     "output_type": "stream",
     "text": [
      "Collecting icrawler\n",
      "  Using cached icrawler-0.6.10-py3-none-any.whl.metadata (6.2 kB)\n",
      "Requirement already satisfied: beautifulsoup4 in c:\\users\\iamth\\lib\\site-packages (from icrawler) (4.13.4)\n",
      "Collecting bs4 (from icrawler)\n",
      "  Using cached bs4-0.0.2-py2.py3-none-any.whl.metadata (411 bytes)\n",
      "Collecting lxml (from icrawler)\n",
      "  Downloading lxml-6.0.0-cp311-cp311-win_amd64.whl.metadata (6.8 kB)\n",
      "Requirement already satisfied: pillow in c:\\users\\iamth\\lib\\site-packages (from icrawler) (11.2.1)\n",
      "Requirement already satisfied: pyyaml in c:\\users\\iamth\\lib\\site-packages (from icrawler) (6.0.2)\n",
      "Requirement already satisfied: requests in c:\\users\\iamth\\lib\\site-packages (from icrawler) (2.32.3)\n",
      "Requirement already satisfied: six in c:\\users\\iamth\\lib\\site-packages (from icrawler) (1.17.0)\n",
      "Requirement already satisfied: soupsieve>1.2 in c:\\users\\iamth\\lib\\site-packages (from beautifulsoup4->icrawler) (2.7)\n",
      "Requirement already satisfied: typing-extensions>=4.0.0 in c:\\users\\iamth\\lib\\site-packages (from beautifulsoup4->icrawler) (4.13.2)\n",
      "Requirement already satisfied: charset-normalizer<4,>=2 in c:\\users\\iamth\\lib\\site-packages (from requests->icrawler) (3.4.2)\n",
      "Requirement already satisfied: idna<4,>=2.5 in c:\\users\\iamth\\lib\\site-packages (from requests->icrawler) (3.10)\n",
      "Requirement already satisfied: urllib3<3,>=1.21.1 in c:\\users\\iamth\\lib\\site-packages (from requests->icrawler) (2.4.0)\n",
      "Requirement already satisfied: certifi>=2017.4.17 in c:\\users\\iamth\\lib\\site-packages (from requests->icrawler) (2025.4.26)\n",
      "Using cached icrawler-0.6.10-py3-none-any.whl (36 kB)\n",
      "Using cached bs4-0.0.2-py2.py3-none-any.whl (1.2 kB)\n",
      "Downloading lxml-6.0.0-cp311-cp311-win_amd64.whl (4.0 MB)\n",
      "   ---------------------------------------- 0.0/4.0 MB ? eta -:--:--\n",
      "   ---------------------------------------- 0.0/4.0 MB ? eta -:--:--\n",
      "   ---------------------------------------- 0.0/4.0 MB 330.3 kB/s eta 0:00:13\n",
      "   ---------------------------------------- 0.0/4.0 MB 262.6 kB/s eta 0:00:16\n",
      "   ---------------------------------------- 0.0/4.0 MB 281.8 kB/s eta 0:00:15\n",
      "    --------------------------------------- 0.1/4.0 MB 262.6 kB/s eta 0:00:16\n",
      "    --------------------------------------- 0.1/4.0 MB 374.1 kB/s eta 0:00:11\n",
      "   - -------------------------------------- 0.1/4.0 MB 368.6 kB/s eta 0:00:11\n",
      "   - -------------------------------------- 0.2/4.0 MB 523.5 kB/s eta 0:00:08\n",
      "   -- ------------------------------------- 0.2/4.0 MB 593.2 kB/s eta 0:00:07\n",
      "   -- ------------------------------------- 0.2/4.0 MB 576.2 kB/s eta 0:00:07\n",
      "   -- ------------------------------------- 0.3/4.0 MB 605.3 kB/s eta 0:00:07\n",
      "   --- ------------------------------------ 0.4/4.0 MB 761.7 kB/s eta 0:00:05\n",
      "   ----- ---------------------------------- 0.5/4.0 MB 952.6 kB/s eta 0:00:04\n",
      "   ----- ---------------------------------- 0.5/4.0 MB 927.6 kB/s eta 0:00:04\n",
      "   ------ --------------------------------- 0.7/4.0 MB 1.1 MB/s eta 0:00:04\n",
      "   ------- -------------------------------- 0.8/4.0 MB 1.2 MB/s eta 0:00:03\n",
      "   ---------- ----------------------------- 1.1/4.0 MB 1.5 MB/s eta 0:00:02\n",
      "   ----------- ---------------------------- 1.2/4.0 MB 1.5 MB/s eta 0:00:02\n",
      "   ------------- -------------------------- 1.3/4.0 MB 1.7 MB/s eta 0:00:02\n",
      "   -------------- ------------------------- 1.4/4.0 MB 1.7 MB/s eta 0:00:02\n",
      "   ------------------ --------------------- 1.8/4.0 MB 2.1 MB/s eta 0:00:02\n",
      "   -------------------- ------------------- 2.1/4.0 MB 2.3 MB/s eta 0:00:01\n",
      "   -------------------- ------------------- 2.1/4.0 MB 2.3 MB/s eta 0:00:01\n",
      "   -------------------- ------------------- 2.1/4.0 MB 2.3 MB/s eta 0:00:01\n",
      "   -------------------- ------------------- 2.1/4.0 MB 2.3 MB/s eta 0:00:01\n",
      "   ------------------------ --------------- 2.5/4.0 MB 2.3 MB/s eta 0:00:01\n",
      "   -------------------------- ------------- 2.7/4.0 MB 2.4 MB/s eta 0:00:01\n",
      "   -------------------------- ------------- 2.7/4.0 MB 2.4 MB/s eta 0:00:01\n",
      "   --------------------------- ------------ 2.8/4.0 MB 2.3 MB/s eta 0:00:01\n",
      "   ----------------------------- ---------- 2.9/4.0 MB 2.3 MB/s eta 0:00:01\n",
      "   --------------------------------- ------ 3.4/4.0 MB 2.6 MB/s eta 0:00:01\n",
      "   -------------------------------------- - 3.8/4.0 MB 2.8 MB/s eta 0:00:01\n",
      "   ---------------------------------------- 4.0/4.0 MB 2.9 MB/s eta 0:00:00\n",
      "Installing collected packages: lxml, bs4, icrawler\n",
      "Successfully installed bs4-0.0.2 icrawler-0.6.10 lxml-6.0.0\n"
     ]
    },
    {
     "name": "stderr",
     "output_type": "stream",
     "text": [
      "\n",
      "[notice] A new release of pip is available: 24.0 -> 25.2\n",
      "[notice] To update, run: python.exe -m pip install --upgrade pip\n"
     ]
    }
   ],
   "source": [
    "#Installing icrawler\n",
    "!pip install icrawler"
   ]
  },
  {
   "cell_type": "code",
   "execution_count": 3,
   "id": "37e96b4a-2fbf-4b46-8241-2b26d7b6dafc",
   "metadata": {},
   "outputs": [],
   "source": [
    "# Import crawler and os\n",
    "from icrawler.builtin import GoogleImageCrawler\n",
    "import os"
   ]
  },
  {
   "cell_type": "code",
   "execution_count": 4,
   "id": "d0100f31-cdb2-4387-980e-5a15d1ed3916",
   "metadata": {},
   "outputs": [],
   "source": [
    "classes_and_keywords = {\n",
    "    'ringworm':'ringworm skin infection close up human',\n",
    "    'eczema':'eczema skin',\n",
    "    'acne':'severe acne face skin close up',\n",
    "    'psoriasis':'psoriasis skin rash arms back legs',\n",
    "    'healthy':'clear healthy skin texture close up'\n",
    "}\n",
    "\n",
    "base_dir = \"skin_disease_dataset\"\n"
   ]
  },
  {
   "cell_type": "code",
   "execution_count": null,
   "id": "8df36529-66d0-40ac-b41d-47091f4da706",
   "metadata": {},
   "outputs": [],
   "source": [
    "# Scraping images from web and storing them in their respective folders\n",
    "for class_name, keyword in classes_and_keywords.items():\n",
    "    folder_path = os.path.join(base_dir, class_name)\n",
    "    os.makedirs(folder_path, exist_ok=True)\n",
    "    \n",
    "    print(f'Downloading images for: {class_name}...')\n",
    "    crawler = GoogleImageCrawler(storage={'root_dir': folder_path})\n",
    "    crawler.crawl(keyword=keyword, max_num=50)\n",
    "\n",
    "print(f'All downloads complete sir! {emoji_2}')\n",
    "\n",
    "#reference: https://icrawler.readthedocs.io/en/latest/"
   ]
  },
  {
   "cell_type": "code",
   "execution_count": null,
   "id": "167f1681-f8a8-46ea-8e99-45f7380d2818",
   "metadata": {},
   "outputs": [],
   "source": [
    "# re-downloading for psoriasis (not enough was downloaded) --> can be reusable for any other class that wasn't properly downloaded\n",
    "crawler_ps = GoogleImageCrawler(storage={'root_dir':\"skin_disease_dataset/psoriasis\"})\n",
    "crawler_ps.crawl(keyword='psoriasis skin rash arms back legs', max_num=50)\n",
    "print(f'download done sir! {emoji_2}')"
   ]
  },
  {
   "cell_type": "code",
   "execution_count": 7,
   "id": "bdcb2561-4bbc-4a00-b6b4-924eff52ba83",
   "metadata": {},
   "outputs": [
    {
     "name": "stdout",
     "output_type": "stream",
     "text": [
      " Cleaning and resizing: acne\n",
      " Cleaning and resizing: eczema\n",
      " Cleaning and resizing: healthy\n",
      " Cleaning and resizing: psoriasis\n",
      " Cleaning and resizing: ringworm\n"
     ]
    },
    {
     "name": "stderr",
     "output_type": "stream",
     "text": [
      "C:\\Users\\iamth\\anaconda3\\Lib\\site-packages\\PIL\\Image.py:1056: UserWarning: Palette images with Transparency expressed in bytes should be converted to RGBA images\n",
      "  warnings.warn(\n"
     ]
    },
    {
     "name": "stdout",
     "output_type": "stream",
     "text": [
      "✅ All images resized, cleaned, and converted to JPEG.\n"
     ]
    }
   ],
   "source": [
    "from PIL import Image\n",
    "# Clean, convert to JPEG, resize to 224x224 \n",
    "def clean_and_resize_images(base_dir, target_size=(224, 224)):\n",
    "    for class_folder in os.listdir(base_dir):\n",
    "        class_path = os.path.join(base_dir, class_folder)\n",
    "        if not os.path.isdir(class_path):\n",
    "            continue\n",
    "\n",
    "        print(f\" Cleaning and resizing: {class_folder}\")\n",
    "        for i, filename in enumerate(os.listdir(class_path)):\n",
    "            file_path = os.path.join(class_path, filename)\n",
    "            try:\n",
    "                with Image.open(file_path) as img:\n",
    "                    img = img.convert(\"RGB\")  # Ensure 3 channels\n",
    "                    img = img.resize(target_size)\n",
    "                    new_filename = f\"{class_folder}_{i+1}.jpg\"\n",
    "                    img.save(os.path.join(class_path, new_filename), \"JPEG\")\n",
    "\n",
    "                    if filename != new_filename:\n",
    "                        os.remove(file_path)  # Delete old if renamed\n",
    "            except Exception as e:\n",
    "                print(f\"{emoji_1} Skipping {file_path}: {e}\")\n",
    "\n",
    "# Run the cleaner\n",
    "clean_and_resize_images(base_dir)\n",
    "print(f\"{emoji_2} All images resized, cleaned, and converted to JPEG.\")\n",
    "\n",
    "#reference: https://pillow.readthedocs.io/en/stable/reference/Image.html\n"
   ]
  },
  {
   "cell_type": "code",
   "execution_count": 3,
   "id": "cac1827e-9cfe-4f82-ad87-676576c81256",
   "metadata": {},
   "outputs": [],
   "source": [
    "# Importing tensorflow and ImageDataGenerator\n",
    "import tensorflow as tf\n",
    "from tensorflow.keras.preprocessing.image import ImageDataGenerator"
   ]
  },
  {
   "cell_type": "markdown",
   "id": "1002bea0-518d-4b42-b424-25f39e70b2ca",
   "metadata": {},
   "source": [
    "### Data Preprocessing & Augmentation"
   ]
  },
  {
   "cell_type": "code",
   "execution_count": 5,
   "id": "10f95e0c-8431-4013-ad4d-c009ba671de5",
   "metadata": {},
   "outputs": [],
   "source": [
    "# Define paths\n",
    "base_dir = \"skin_disease_dataset\"\n",
    "img_size = (224, 224)\n",
    "batch_size = 32\n",
    "val_split = 0.2  # 20% for validation"
   ]
  },
  {
   "cell_type": "code",
   "execution_count": 7,
   "id": "de33e22c-94eb-4954-a6a9-d172930d3492",
   "metadata": {},
   "outputs": [],
   "source": [
    "# Augmentation for training set\n",
    "train_datagen = ImageDataGenerator(\n",
    "    rescale=1./255,\n",
    "    rotation_range=15,\n",
    "    width_shift_range=0.1,\n",
    "    height_shift_range=0.1,\n",
    "    shear_range=0.1,\n",
    "    zoom_range=0.2,\n",
    "    horizontal_flip=True,\n",
    "    validation_split=val_split\n",
    ")\n"
   ]
  },
  {
   "cell_type": "code",
   "execution_count": 8,
   "id": "ef0fd782-0a20-4793-8e6d-a32f82971c43",
   "metadata": {},
   "outputs": [],
   "source": [
    "# No augmentation for validation/test, just rescale\n",
    "val_datagen = ImageDataGenerator(rescale=1./255, validation_split=val_split)"
   ]
  },
  {
   "cell_type": "code",
   "execution_count": 9,
   "id": "85d325f0-7ae0-48d1-b7e7-4ec72e0e7da9",
   "metadata": {},
   "outputs": [
    {
     "name": "stdout",
     "output_type": "stream",
     "text": [
      "Found 200 images belonging to 5 classes.\n"
     ]
    }
   ],
   "source": [
    "# Load training images\n",
    "train_generator = train_datagen.flow_from_directory(\n",
    "    base_dir,\n",
    "    target_size=img_size,\n",
    "    batch_size=batch_size,\n",
    "    class_mode='categorical',\n",
    "    subset='training',\n",
    "    shuffle=True,\n",
    "    seed=42\n",
    ")\n"
   ]
  },
  {
   "cell_type": "code",
   "execution_count": 10,
   "id": "e55f5505-4f21-4427-a18d-c9f53896ffe9",
   "metadata": {},
   "outputs": [
    {
     "name": "stdout",
     "output_type": "stream",
     "text": [
      "Found 50 images belonging to 5 classes.\n"
     ]
    }
   ],
   "source": [
    "# Load validation images\n",
    "val_generator = val_datagen.flow_from_directory(\n",
    "    base_dir,\n",
    "    target_size=img_size,\n",
    "    batch_size=batch_size,\n",
    "    class_mode='categorical',\n",
    "    subset='validation',\n",
    "    shuffle=True,\n",
    "    seed=42\n",
    ")"
   ]
  },
  {
   "cell_type": "code",
   "execution_count": 11,
   "id": "aaf31790-c7f0-4c80-b6c7-2c3ec11042dd",
   "metadata": {},
   "outputs": [
    {
     "name": "stdout",
     "output_type": "stream",
     "text": [
      "Class indices: {'acne': 0, 'eczema': 1, 'healthy': 2, 'psoriasis': 3, 'ringworm': 4}\n"
     ]
    }
   ],
   "source": [
    "\n",
    "# Class label mapping\n",
    "print(\"Class indices:\", train_generator.class_indices)"
   ]
  },
  {
   "cell_type": "markdown",
   "id": "27a90380-ad27-40f5-aca0-cd7edb98a3f1",
   "metadata": {},
   "source": [
    "### Transfer Learning Script (using MobileNetV2)"
   ]
  },
  {
   "cell_type": "code",
   "execution_count": 5,
   "id": "9e91d41f-9b28-481e-b2b6-afb3183f0968",
   "metadata": {},
   "outputs": [],
   "source": [
    "import tensorflow as tf\n",
    "from tensorflow.keras.applications import MobileNetV2\n",
    "from tensorflow.keras.models import Model\n",
    "from tensorflow.keras.layers import GlobalAveragePooling2D, Dense, Dropout\n",
    "from tensorflow.keras.optimizers import Adam\n",
    "from tensorflow.keras.callbacks import EarlyStopping, ModelCheckpoint\n",
    "import matplotlib.pyplot as plt"
   ]
  },
  {
   "cell_type": "code",
   "execution_count": 13,
   "id": "0a1eb725-24f0-4592-b936-15ed701ae889",
   "metadata": {},
   "outputs": [],
   "source": [
    "# Load pretrained MobileNetV2 without the top classification layer\n",
    "base_model = MobileNetV2(\n",
    "    weights='imagenet',\n",
    "    include_top=False,\n",
    "    input_shape=(224, 224, 3)\n",
    ")\n",
    "#reference: https://www.tensorflow.org/api_docs/python/tf/keras/applications/MobileNetV2"
   ]
  },
  {
   "cell_type": "code",
   "execution_count": 14,
   "id": "6edc51ba-6721-4316-95f0-8b9c8fbb055c",
   "metadata": {},
   "outputs": [],
   "source": [
    "# Freeze base model so we only train the head\n",
    "base_model.trainable = False"
   ]
  },
  {
   "cell_type": "code",
   "execution_count": 15,
   "id": "8b51ebfc-b20c-427a-bb17-fcfc24829a1c",
   "metadata": {},
   "outputs": [],
   "source": [
    "# Add custom classification head\n",
    "x = base_model.output\n",
    "x = GlobalAveragePooling2D()(x)\n",
    "x = Dropout(0.3)(x)  # Regularization to avoid overfitting\n",
    "x = Dense(128, activation='relu')(x)\n",
    "output = Dense(train_generator.num_classes, activation='softmax')(x)\n",
    "\n",
    "model = Model(inputs=base_model.input, outputs=output)"
   ]
  },
  {
   "cell_type": "code",
   "execution_count": 16,
   "id": "3e3dc0e5-fb55-4428-ba90-002cd34c864b",
   "metadata": {},
   "outputs": [],
   "source": [
    "# Compile the model\n",
    "model.compile(optimizer=Adam(learning_rate=1e-4),\n",
    "              loss='categorical_crossentropy',\n",
    "              metrics=['accuracy'])"
   ]
  },
  {
   "cell_type": "code",
   "execution_count": 17,
   "id": "371e7147-43ea-4a81-ae61-77df4d23d144",
   "metadata": {},
   "outputs": [],
   "source": [
    "# set up callbacks\n",
    "callbacks = [\n",
    "    EarlyStopping(monitor='val_loss', patience=5, restore_best_weights=True),\n",
    "    ModelCheckpoint('best_model.h5', save_best_only=True)\n",
    "]"
   ]
  },
  {
   "cell_type": "code",
   "execution_count": 18,
   "id": "4110ea99-0762-4e15-82df-6dddab704787",
   "metadata": {},
   "outputs": [
    {
     "name": "stderr",
     "output_type": "stream",
     "text": [
      "C:\\Users\\iamth\\anaconda3\\Lib\\site-packages\\keras\\src\\trainers\\data_adapters\\py_dataset_adapter.py:121: UserWarning: Your `PyDataset` class should call `super().__init__(**kwargs)` in its constructor. `**kwargs` can include `workers`, `use_multiprocessing`, `max_queue_size`. Do not pass these arguments to `fit()`, as they will be ignored.\n",
      "  self._warn_if_super_not_called()\n"
     ]
    },
    {
     "name": "stdout",
     "output_type": "stream",
     "text": [
      "Epoch 1/30\n",
      "\u001b[1m7/7\u001b[0m \u001b[32m━━━━━━━━━━━━━━━━━━━━\u001b[0m\u001b[37m\u001b[0m \u001b[1m0s\u001b[0m 831ms/step - accuracy: 0.1812 - loss: 2.1583"
     ]
    },
    {
     "name": "stderr",
     "output_type": "stream",
     "text": [
      "WARNING:absl:You are saving your model as an HDF5 file via `model.save()` or `keras.saving.save_model(model)`. This file format is considered legacy. We recommend using instead the native Keras format, e.g. `model.save('my_model.keras')` or `keras.saving.save_model(model, 'my_model.keras')`. \n"
     ]
    },
    {
     "name": "stdout",
     "output_type": "stream",
     "text": [
      "\u001b[1m7/7\u001b[0m \u001b[32m━━━━━━━━━━━━━━━━━━━━\u001b[0m\u001b[37m\u001b[0m \u001b[1m22s\u001b[0m 2s/step - accuracy: 0.1792 - loss: 2.1484 - val_accuracy: 0.1600 - val_loss: 1.7257\n",
      "Epoch 2/30\n",
      "\u001b[1m7/7\u001b[0m \u001b[32m━━━━━━━━━━━━━━━━━━━━\u001b[0m\u001b[37m\u001b[0m \u001b[1m0s\u001b[0m 893ms/step - accuracy: 0.1713 - loss: 1.8341"
     ]
    },
    {
     "name": "stderr",
     "output_type": "stream",
     "text": [
      "WARNING:absl:You are saving your model as an HDF5 file via `model.save()` or `keras.saving.save_model(model)`. This file format is considered legacy. We recommend using instead the native Keras format, e.g. `model.save('my_model.keras')` or `keras.saving.save_model(model, 'my_model.keras')`. \n"
     ]
    },
    {
     "name": "stdout",
     "output_type": "stream",
     "text": [
      "\u001b[1m7/7\u001b[0m \u001b[32m━━━━━━━━━━━━━━━━━━━━\u001b[0m\u001b[37m\u001b[0m \u001b[1m17s\u001b[0m 1s/step - accuracy: 0.1743 - loss: 1.8290 - val_accuracy: 0.1800 - val_loss: 1.6290\n",
      "Epoch 3/30\n",
      "\u001b[1m7/7\u001b[0m \u001b[32m━━━━━━━━━━━━━━━━━━━━\u001b[0m\u001b[37m\u001b[0m \u001b[1m0s\u001b[0m 931ms/step - accuracy: 0.2311 - loss: 1.7531"
     ]
    },
    {
     "name": "stderr",
     "output_type": "stream",
     "text": [
      "WARNING:absl:You are saving your model as an HDF5 file via `model.save()` or `keras.saving.save_model(model)`. This file format is considered legacy. We recommend using instead the native Keras format, e.g. `model.save('my_model.keras')` or `keras.saving.save_model(model, 'my_model.keras')`. \n"
     ]
    },
    {
     "name": "stdout",
     "output_type": "stream",
     "text": [
      "\u001b[1m7/7\u001b[0m \u001b[32m━━━━━━━━━━━━━━━━━━━━\u001b[0m\u001b[37m\u001b[0m \u001b[1m11s\u001b[0m 1s/step - accuracy: 0.2359 - loss: 1.7444 - val_accuracy: 0.2200 - val_loss: 1.5495\n",
      "Epoch 4/30\n",
      "\u001b[1m7/7\u001b[0m \u001b[32m━━━━━━━━━━━━━━━━━━━━\u001b[0m\u001b[37m\u001b[0m \u001b[1m0s\u001b[0m 935ms/step - accuracy: 0.3932 - loss: 1.4913"
     ]
    },
    {
     "name": "stderr",
     "output_type": "stream",
     "text": [
      "WARNING:absl:You are saving your model as an HDF5 file via `model.save()` or `keras.saving.save_model(model)`. This file format is considered legacy. We recommend using instead the native Keras format, e.g. `model.save('my_model.keras')` or `keras.saving.save_model(model, 'my_model.keras')`. \n"
     ]
    },
    {
     "name": "stdout",
     "output_type": "stream",
     "text": [
      "\u001b[1m7/7\u001b[0m \u001b[32m━━━━━━━━━━━━━━━━━━━━\u001b[0m\u001b[37m\u001b[0m \u001b[1m10s\u001b[0m 1s/step - accuracy: 0.3884 - loss: 1.4971 - val_accuracy: 0.2800 - val_loss: 1.4654\n",
      "Epoch 5/30\n",
      "\u001b[1m7/7\u001b[0m \u001b[32m━━━━━━━━━━━━━━━━━━━━\u001b[0m\u001b[37m\u001b[0m \u001b[1m0s\u001b[0m 1s/step - accuracy: 0.3877 - loss: 1.4410"
     ]
    },
    {
     "name": "stderr",
     "output_type": "stream",
     "text": [
      "WARNING:absl:You are saving your model as an HDF5 file via `model.save()` or `keras.saving.save_model(model)`. This file format is considered legacy. We recommend using instead the native Keras format, e.g. `model.save('my_model.keras')` or `keras.saving.save_model(model, 'my_model.keras')`. \n"
     ]
    },
    {
     "name": "stdout",
     "output_type": "stream",
     "text": [
      "\u001b[1m7/7\u001b[0m \u001b[32m━━━━━━━━━━━━━━━━━━━━\u001b[0m\u001b[37m\u001b[0m \u001b[1m10s\u001b[0m 1s/step - accuracy: 0.3830 - loss: 1.4502 - val_accuracy: 0.3200 - val_loss: 1.3955\n",
      "Epoch 6/30\n",
      "\u001b[1m7/7\u001b[0m \u001b[32m━━━━━━━━━━━━━━━━━━━━\u001b[0m\u001b[37m\u001b[0m \u001b[1m0s\u001b[0m 854ms/step - accuracy: 0.4064 - loss: 1.3396"
     ]
    },
    {
     "name": "stderr",
     "output_type": "stream",
     "text": [
      "WARNING:absl:You are saving your model as an HDF5 file via `model.save()` or `keras.saving.save_model(model)`. This file format is considered legacy. We recommend using instead the native Keras format, e.g. `model.save('my_model.keras')` or `keras.saving.save_model(model, 'my_model.keras')`. \n"
     ]
    },
    {
     "name": "stdout",
     "output_type": "stream",
     "text": [
      "\u001b[1m7/7\u001b[0m \u001b[32m━━━━━━━━━━━━━━━━━━━━\u001b[0m\u001b[37m\u001b[0m \u001b[1m10s\u001b[0m 1s/step - accuracy: 0.4031 - loss: 1.3457 - val_accuracy: 0.3400 - val_loss: 1.3323\n",
      "Epoch 7/30\n",
      "\u001b[1m7/7\u001b[0m \u001b[32m━━━━━━━━━━━━━━━━━━━━\u001b[0m\u001b[37m\u001b[0m \u001b[1m0s\u001b[0m 1s/step - accuracy: 0.4403 - loss: 1.3187"
     ]
    },
    {
     "name": "stderr",
     "output_type": "stream",
     "text": [
      "WARNING:absl:You are saving your model as an HDF5 file via `model.save()` or `keras.saving.save_model(model)`. This file format is considered legacy. We recommend using instead the native Keras format, e.g. `model.save('my_model.keras')` or `keras.saving.save_model(model, 'my_model.keras')`. \n"
     ]
    },
    {
     "name": "stdout",
     "output_type": "stream",
     "text": [
      "\u001b[1m7/7\u001b[0m \u001b[32m━━━━━━━━━━━━━━━━━━━━\u001b[0m\u001b[37m\u001b[0m \u001b[1m8s\u001b[0m 1s/step - accuracy: 0.4365 - loss: 1.3199 - val_accuracy: 0.4000 - val_loss: 1.2695\n",
      "Epoch 8/30\n",
      "\u001b[1m7/7\u001b[0m \u001b[32m━━━━━━━━━━━━━━━━━━━━\u001b[0m\u001b[37m\u001b[0m \u001b[1m0s\u001b[0m 1s/step - accuracy: 0.3957 - loss: 1.4273"
     ]
    },
    {
     "name": "stderr",
     "output_type": "stream",
     "text": [
      "WARNING:absl:You are saving your model as an HDF5 file via `model.save()` or `keras.saving.save_model(model)`. This file format is considered legacy. We recommend using instead the native Keras format, e.g. `model.save('my_model.keras')` or `keras.saving.save_model(model, 'my_model.keras')`. \n"
     ]
    },
    {
     "name": "stdout",
     "output_type": "stream",
     "text": [
      "\u001b[1m7/7\u001b[0m \u001b[32m━━━━━━━━━━━━━━━━━━━━\u001b[0m\u001b[37m\u001b[0m \u001b[1m8s\u001b[0m 1s/step - accuracy: 0.3981 - loss: 1.4189 - val_accuracy: 0.4600 - val_loss: 1.2269\n",
      "Epoch 9/30\n",
      "\u001b[1m7/7\u001b[0m \u001b[32m━━━━━━━━━━━━━━━━━━━━\u001b[0m\u001b[37m\u001b[0m \u001b[1m0s\u001b[0m 906ms/step - accuracy: 0.4911 - loss: 1.2546"
     ]
    },
    {
     "name": "stderr",
     "output_type": "stream",
     "text": [
      "WARNING:absl:You are saving your model as an HDF5 file via `model.save()` or `keras.saving.save_model(model)`. This file format is considered legacy. We recommend using instead the native Keras format, e.g. `model.save('my_model.keras')` or `keras.saving.save_model(model, 'my_model.keras')`. \n"
     ]
    },
    {
     "name": "stdout",
     "output_type": "stream",
     "text": [
      "\u001b[1m7/7\u001b[0m \u001b[32m━━━━━━━━━━━━━━━━━━━━\u001b[0m\u001b[37m\u001b[0m \u001b[1m11s\u001b[0m 1s/step - accuracy: 0.4923 - loss: 1.2481 - val_accuracy: 0.4800 - val_loss: 1.1797\n",
      "Epoch 10/30\n",
      "\u001b[1m7/7\u001b[0m \u001b[32m━━━━━━━━━━━━━━━━━━━━\u001b[0m\u001b[37m\u001b[0m \u001b[1m0s\u001b[0m 927ms/step - accuracy: 0.5094 - loss: 1.1755"
     ]
    },
    {
     "name": "stderr",
     "output_type": "stream",
     "text": [
      "WARNING:absl:You are saving your model as an HDF5 file via `model.save()` or `keras.saving.save_model(model)`. This file format is considered legacy. We recommend using instead the native Keras format, e.g. `model.save('my_model.keras')` or `keras.saving.save_model(model, 'my_model.keras')`. \n"
     ]
    },
    {
     "name": "stdout",
     "output_type": "stream",
     "text": [
      "\u001b[1m7/7\u001b[0m \u001b[32m━━━━━━━━━━━━━━━━━━━━\u001b[0m\u001b[37m\u001b[0m \u001b[1m10s\u001b[0m 1s/step - accuracy: 0.5069 - loss: 1.1805 - val_accuracy: 0.5200 - val_loss: 1.1416\n",
      "Epoch 11/30\n",
      "\u001b[1m7/7\u001b[0m \u001b[32m━━━━━━━━━━━━━━━━━━━━\u001b[0m\u001b[37m\u001b[0m \u001b[1m0s\u001b[0m 918ms/step - accuracy: 0.4815 - loss: 1.1942"
     ]
    },
    {
     "name": "stderr",
     "output_type": "stream",
     "text": [
      "WARNING:absl:You are saving your model as an HDF5 file via `model.save()` or `keras.saving.save_model(model)`. This file format is considered legacy. We recommend using instead the native Keras format, e.g. `model.save('my_model.keras')` or `keras.saving.save_model(model, 'my_model.keras')`. \n"
     ]
    },
    {
     "name": "stdout",
     "output_type": "stream",
     "text": [
      "\u001b[1m7/7\u001b[0m \u001b[32m━━━━━━━━━━━━━━━━━━━━\u001b[0m\u001b[37m\u001b[0m \u001b[1m10s\u001b[0m 1s/step - accuracy: 0.4832 - loss: 1.1899 - val_accuracy: 0.5200 - val_loss: 1.1192\n",
      "Epoch 12/30\n",
      "\u001b[1m7/7\u001b[0m \u001b[32m━━━━━━━━━━━━━━━━━━━━\u001b[0m\u001b[37m\u001b[0m \u001b[1m0s\u001b[0m 969ms/step - accuracy: 0.5149 - loss: 1.1253"
     ]
    },
    {
     "name": "stderr",
     "output_type": "stream",
     "text": [
      "WARNING:absl:You are saving your model as an HDF5 file via `model.save()` or `keras.saving.save_model(model)`. This file format is considered legacy. We recommend using instead the native Keras format, e.g. `model.save('my_model.keras')` or `keras.saving.save_model(model, 'my_model.keras')`. \n"
     ]
    },
    {
     "name": "stdout",
     "output_type": "stream",
     "text": [
      "\u001b[1m7/7\u001b[0m \u001b[32m━━━━━━━━━━━━━━━━━━━━\u001b[0m\u001b[37m\u001b[0m \u001b[1m11s\u001b[0m 1s/step - accuracy: 0.5137 - loss: 1.1302 - val_accuracy: 0.5200 - val_loss: 1.0941\n",
      "Epoch 13/30\n",
      "\u001b[1m7/7\u001b[0m \u001b[32m━━━━━━━━━━━━━━━━━━━━\u001b[0m\u001b[37m\u001b[0m \u001b[1m0s\u001b[0m 944ms/step - accuracy: 0.5422 - loss: 1.0497"
     ]
    },
    {
     "name": "stderr",
     "output_type": "stream",
     "text": [
      "WARNING:absl:You are saving your model as an HDF5 file via `model.save()` or `keras.saving.save_model(model)`. This file format is considered legacy. We recommend using instead the native Keras format, e.g. `model.save('my_model.keras')` or `keras.saving.save_model(model, 'my_model.keras')`. \n"
     ]
    },
    {
     "name": "stdout",
     "output_type": "stream",
     "text": [
      "\u001b[1m7/7\u001b[0m \u001b[32m━━━━━━━━━━━━━━━━━━━━\u001b[0m\u001b[37m\u001b[0m \u001b[1m10s\u001b[0m 1s/step - accuracy: 0.5432 - loss: 1.0569 - val_accuracy: 0.5200 - val_loss: 1.0650\n",
      "Epoch 14/30\n",
      "\u001b[1m7/7\u001b[0m \u001b[32m━━━━━━━━━━━━━━━━━━━━\u001b[0m\u001b[37m\u001b[0m \u001b[1m0s\u001b[0m 918ms/step - accuracy: 0.5242 - loss: 1.1295"
     ]
    },
    {
     "name": "stderr",
     "output_type": "stream",
     "text": [
      "WARNING:absl:You are saving your model as an HDF5 file via `model.save()` or `keras.saving.save_model(model)`. This file format is considered legacy. We recommend using instead the native Keras format, e.g. `model.save('my_model.keras')` or `keras.saving.save_model(model, 'my_model.keras')`. \n"
     ]
    },
    {
     "name": "stdout",
     "output_type": "stream",
     "text": [
      "\u001b[1m7/7\u001b[0m \u001b[32m━━━━━━━━━━━━━━━━━━━━\u001b[0m\u001b[37m\u001b[0m \u001b[1m10s\u001b[0m 1s/step - accuracy: 0.5281 - loss: 1.1266 - val_accuracy: 0.5600 - val_loss: 1.0447\n",
      "Epoch 15/30\n",
      "\u001b[1m7/7\u001b[0m \u001b[32m━━━━━━━━━━━━━━━━━━━━\u001b[0m\u001b[37m\u001b[0m \u001b[1m0s\u001b[0m 890ms/step - accuracy: 0.6140 - loss: 1.0381"
     ]
    },
    {
     "name": "stderr",
     "output_type": "stream",
     "text": [
      "WARNING:absl:You are saving your model as an HDF5 file via `model.save()` or `keras.saving.save_model(model)`. This file format is considered legacy. We recommend using instead the native Keras format, e.g. `model.save('my_model.keras')` or `keras.saving.save_model(model, 'my_model.keras')`. \n"
     ]
    },
    {
     "name": "stdout",
     "output_type": "stream",
     "text": [
      "\u001b[1m7/7\u001b[0m \u001b[32m━━━━━━━━━━━━━━━━━━━━\u001b[0m\u001b[37m\u001b[0m \u001b[1m11s\u001b[0m 1s/step - accuracy: 0.6103 - loss: 1.0412 - val_accuracy: 0.5400 - val_loss: 1.0239\n",
      "Epoch 16/30\n",
      "\u001b[1m7/7\u001b[0m \u001b[32m━━━━━━━━━━━━━━━━━━━━\u001b[0m\u001b[37m\u001b[0m \u001b[1m0s\u001b[0m 1s/step - accuracy: 0.5866 - loss: 1.0546"
     ]
    },
    {
     "name": "stderr",
     "output_type": "stream",
     "text": [
      "WARNING:absl:You are saving your model as an HDF5 file via `model.save()` or `keras.saving.save_model(model)`. This file format is considered legacy. We recommend using instead the native Keras format, e.g. `model.save('my_model.keras')` or `keras.saving.save_model(model, 'my_model.keras')`. \n"
     ]
    },
    {
     "name": "stdout",
     "output_type": "stream",
     "text": [
      "\u001b[1m7/7\u001b[0m \u001b[32m━━━━━━━━━━━━━━━━━━━━\u001b[0m\u001b[37m\u001b[0m \u001b[1m11s\u001b[0m 1s/step - accuracy: 0.5895 - loss: 1.0444 - val_accuracy: 0.5600 - val_loss: 1.0067\n",
      "Epoch 17/30\n",
      "\u001b[1m7/7\u001b[0m \u001b[32m━━━━━━━━━━━━━━━━━━━━\u001b[0m\u001b[37m\u001b[0m \u001b[1m0s\u001b[0m 914ms/step - accuracy: 0.6294 - loss: 0.9365"
     ]
    },
    {
     "name": "stderr",
     "output_type": "stream",
     "text": [
      "WARNING:absl:You are saving your model as an HDF5 file via `model.save()` or `keras.saving.save_model(model)`. This file format is considered legacy. We recommend using instead the native Keras format, e.g. `model.save('my_model.keras')` or `keras.saving.save_model(model, 'my_model.keras')`. \n"
     ]
    },
    {
     "name": "stdout",
     "output_type": "stream",
     "text": [
      "\u001b[1m7/7\u001b[0m \u001b[32m━━━━━━━━━━━━━━━━━━━━\u001b[0m\u001b[37m\u001b[0m \u001b[1m9s\u001b[0m 1s/step - accuracy: 0.6264 - loss: 0.9450 - val_accuracy: 0.5600 - val_loss: 0.9966\n",
      "Epoch 18/30\n",
      "\u001b[1m7/7\u001b[0m \u001b[32m━━━━━━━━━━━━━━━━━━━━\u001b[0m\u001b[37m\u001b[0m \u001b[1m0s\u001b[0m 923ms/step - accuracy: 0.6190 - loss: 0.9603"
     ]
    },
    {
     "name": "stderr",
     "output_type": "stream",
     "text": [
      "WARNING:absl:You are saving your model as an HDF5 file via `model.save()` or `keras.saving.save_model(model)`. This file format is considered legacy. We recommend using instead the native Keras format, e.g. `model.save('my_model.keras')` or `keras.saving.save_model(model, 'my_model.keras')`. \n"
     ]
    },
    {
     "name": "stdout",
     "output_type": "stream",
     "text": [
      "\u001b[1m7/7\u001b[0m \u001b[32m━━━━━━━━━━━━━━━━━━━━\u001b[0m\u001b[37m\u001b[0m \u001b[1m10s\u001b[0m 1s/step - accuracy: 0.6154 - loss: 0.9670 - val_accuracy: 0.5600 - val_loss: 0.9900\n",
      "Epoch 19/30\n",
      "\u001b[1m7/7\u001b[0m \u001b[32m━━━━━━━━━━━━━━━━━━━━\u001b[0m\u001b[37m\u001b[0m \u001b[1m0s\u001b[0m 940ms/step - accuracy: 0.5724 - loss: 0.9615"
     ]
    },
    {
     "name": "stderr",
     "output_type": "stream",
     "text": [
      "WARNING:absl:You are saving your model as an HDF5 file via `model.save()` or `keras.saving.save_model(model)`. This file format is considered legacy. We recommend using instead the native Keras format, e.g. `model.save('my_model.keras')` or `keras.saving.save_model(model, 'my_model.keras')`. \n"
     ]
    },
    {
     "name": "stdout",
     "output_type": "stream",
     "text": [
      "\u001b[1m7/7\u001b[0m \u001b[32m━━━━━━━━━━━━━━━━━━━━\u001b[0m\u001b[37m\u001b[0m \u001b[1m10s\u001b[0m 1s/step - accuracy: 0.5740 - loss: 0.9624 - val_accuracy: 0.6000 - val_loss: 0.9738\n",
      "Epoch 20/30\n",
      "\u001b[1m7/7\u001b[0m \u001b[32m━━━━━━━━━━━━━━━━━━━━\u001b[0m\u001b[37m\u001b[0m \u001b[1m0s\u001b[0m 919ms/step - accuracy: 0.5998 - loss: 0.9422"
     ]
    },
    {
     "name": "stderr",
     "output_type": "stream",
     "text": [
      "WARNING:absl:You are saving your model as an HDF5 file via `model.save()` or `keras.saving.save_model(model)`. This file format is considered legacy. We recommend using instead the native Keras format, e.g. `model.save('my_model.keras')` or `keras.saving.save_model(model, 'my_model.keras')`. \n"
     ]
    },
    {
     "name": "stdout",
     "output_type": "stream",
     "text": [
      "\u001b[1m7/7\u001b[0m \u001b[32m━━━━━━━━━━━━━━━━━━━━\u001b[0m\u001b[37m\u001b[0m \u001b[1m10s\u001b[0m 1s/step - accuracy: 0.5998 - loss: 0.9463 - val_accuracy: 0.6200 - val_loss: 0.9645\n",
      "Epoch 21/30\n",
      "\u001b[1m7/7\u001b[0m \u001b[32m━━━━━━━━━━━━━━━━━━━━\u001b[0m\u001b[37m\u001b[0m \u001b[1m0s\u001b[0m 931ms/step - accuracy: 0.6278 - loss: 0.9562"
     ]
    },
    {
     "name": "stderr",
     "output_type": "stream",
     "text": [
      "WARNING:absl:You are saving your model as an HDF5 file via `model.save()` or `keras.saving.save_model(model)`. This file format is considered legacy. We recommend using instead the native Keras format, e.g. `model.save('my_model.keras')` or `keras.saving.save_model(model, 'my_model.keras')`. \n"
     ]
    },
    {
     "name": "stdout",
     "output_type": "stream",
     "text": [
      "\u001b[1m7/7\u001b[0m \u001b[32m━━━━━━━━━━━━━━━━━━━━\u001b[0m\u001b[37m\u001b[0m \u001b[1m10s\u001b[0m 1s/step - accuracy: 0.6268 - loss: 0.9594 - val_accuracy: 0.6400 - val_loss: 0.9546\n",
      "Epoch 22/30\n",
      "\u001b[1m7/7\u001b[0m \u001b[32m━━━━━━━━━━━━━━━━━━━━\u001b[0m\u001b[37m\u001b[0m \u001b[1m0s\u001b[0m 943ms/step - accuracy: 0.6158 - loss: 0.9524"
     ]
    },
    {
     "name": "stderr",
     "output_type": "stream",
     "text": [
      "WARNING:absl:You are saving your model as an HDF5 file via `model.save()` or `keras.saving.save_model(model)`. This file format is considered legacy. We recommend using instead the native Keras format, e.g. `model.save('my_model.keras')` or `keras.saving.save_model(model, 'my_model.keras')`. \n"
     ]
    },
    {
     "name": "stdout",
     "output_type": "stream",
     "text": [
      "\u001b[1m7/7\u001b[0m \u001b[32m━━━━━━━━━━━━━━━━━━━━\u001b[0m\u001b[37m\u001b[0m \u001b[1m10s\u001b[0m 1s/step - accuracy: 0.6195 - loss: 0.9461 - val_accuracy: 0.6400 - val_loss: 0.9481\n",
      "Epoch 23/30\n",
      "\u001b[1m7/7\u001b[0m \u001b[32m━━━━━━━━━━━━━━━━━━━━\u001b[0m\u001b[37m\u001b[0m \u001b[1m0s\u001b[0m 899ms/step - accuracy: 0.5595 - loss: 0.9691"
     ]
    },
    {
     "name": "stderr",
     "output_type": "stream",
     "text": [
      "WARNING:absl:You are saving your model as an HDF5 file via `model.save()` or `keras.saving.save_model(model)`. This file format is considered legacy. We recommend using instead the native Keras format, e.g. `model.save('my_model.keras')` or `keras.saving.save_model(model, 'my_model.keras')`. \n"
     ]
    },
    {
     "name": "stdout",
     "output_type": "stream",
     "text": [
      "\u001b[1m7/7\u001b[0m \u001b[32m━━━━━━━━━━━━━━━━━━━━\u001b[0m\u001b[37m\u001b[0m \u001b[1m10s\u001b[0m 1s/step - accuracy: 0.5665 - loss: 0.9658 - val_accuracy: 0.6400 - val_loss: 0.9432\n",
      "Epoch 24/30\n",
      "\u001b[1m7/7\u001b[0m \u001b[32m━━━━━━━━━━━━━━━━━━━━\u001b[0m\u001b[37m\u001b[0m \u001b[1m0s\u001b[0m 941ms/step - accuracy: 0.5977 - loss: 0.9602"
     ]
    },
    {
     "name": "stderr",
     "output_type": "stream",
     "text": [
      "WARNING:absl:You are saving your model as an HDF5 file via `model.save()` or `keras.saving.save_model(model)`. This file format is considered legacy. We recommend using instead the native Keras format, e.g. `model.save('my_model.keras')` or `keras.saving.save_model(model, 'my_model.keras')`. \n"
     ]
    },
    {
     "name": "stdout",
     "output_type": "stream",
     "text": [
      "\u001b[1m7/7\u001b[0m \u001b[32m━━━━━━━━━━━━━━━━━━━━\u001b[0m\u001b[37m\u001b[0m \u001b[1m11s\u001b[0m 1s/step - accuracy: 0.6024 - loss: 0.9528 - val_accuracy: 0.6200 - val_loss: 0.9400\n",
      "Epoch 25/30\n",
      "\u001b[1m7/7\u001b[0m \u001b[32m━━━━━━━━━━━━━━━━━━━━\u001b[0m\u001b[37m\u001b[0m \u001b[1m0s\u001b[0m 1s/step - accuracy: 0.7547 - loss: 0.7730"
     ]
    },
    {
     "name": "stderr",
     "output_type": "stream",
     "text": [
      "WARNING:absl:You are saving your model as an HDF5 file via `model.save()` or `keras.saving.save_model(model)`. This file format is considered legacy. We recommend using instead the native Keras format, e.g. `model.save('my_model.keras')` or `keras.saving.save_model(model, 'my_model.keras')`. \n"
     ]
    },
    {
     "name": "stdout",
     "output_type": "stream",
     "text": [
      "\u001b[1m7/7\u001b[0m \u001b[32m━━━━━━━━━━━━━━━━━━━━\u001b[0m\u001b[37m\u001b[0m \u001b[1m10s\u001b[0m 1s/step - accuracy: 0.7522 - loss: 0.7789 - val_accuracy: 0.6200 - val_loss: 0.9297\n",
      "Epoch 26/30\n",
      "\u001b[1m7/7\u001b[0m \u001b[32m━━━━━━━━━━━━━━━━━━━━\u001b[0m\u001b[37m\u001b[0m \u001b[1m0s\u001b[0m 941ms/step - accuracy: 0.6484 - loss: 0.9085"
     ]
    },
    {
     "name": "stderr",
     "output_type": "stream",
     "text": [
      "WARNING:absl:You are saving your model as an HDF5 file via `model.save()` or `keras.saving.save_model(model)`. This file format is considered legacy. We recommend using instead the native Keras format, e.g. `model.save('my_model.keras')` or `keras.saving.save_model(model, 'my_model.keras')`. \n"
     ]
    },
    {
     "name": "stdout",
     "output_type": "stream",
     "text": [
      "\u001b[1m7/7\u001b[0m \u001b[32m━━━━━━━━━━━━━━━━━━━━\u001b[0m\u001b[37m\u001b[0m \u001b[1m10s\u001b[0m 1s/step - accuracy: 0.6474 - loss: 0.9077 - val_accuracy: 0.6200 - val_loss: 0.9242\n",
      "Epoch 27/30\n",
      "\u001b[1m7/7\u001b[0m \u001b[32m━━━━━━━━━━━━━━━━━━━━\u001b[0m\u001b[37m\u001b[0m \u001b[1m0s\u001b[0m 1s/step - accuracy: 0.7299 - loss: 0.8702"
     ]
    },
    {
     "name": "stderr",
     "output_type": "stream",
     "text": [
      "WARNING:absl:You are saving your model as an HDF5 file via `model.save()` or `keras.saving.save_model(model)`. This file format is considered legacy. We recommend using instead the native Keras format, e.g. `model.save('my_model.keras')` or `keras.saving.save_model(model, 'my_model.keras')`. \n"
     ]
    },
    {
     "name": "stdout",
     "output_type": "stream",
     "text": [
      "\u001b[1m7/7\u001b[0m \u001b[32m━━━━━━━━━━━━━━━━━━━━\u001b[0m\u001b[37m\u001b[0m \u001b[1m10s\u001b[0m 1s/step - accuracy: 0.7293 - loss: 0.8636 - val_accuracy: 0.6200 - val_loss: 0.9166\n",
      "Epoch 28/30\n",
      "\u001b[1m7/7\u001b[0m \u001b[32m━━━━━━━━━━━━━━━━━━━━\u001b[0m\u001b[37m\u001b[0m \u001b[1m0s\u001b[0m 920ms/step - accuracy: 0.6757 - loss: 0.7854"
     ]
    },
    {
     "name": "stderr",
     "output_type": "stream",
     "text": [
      "WARNING:absl:You are saving your model as an HDF5 file via `model.save()` or `keras.saving.save_model(model)`. This file format is considered legacy. We recommend using instead the native Keras format, e.g. `model.save('my_model.keras')` or `keras.saving.save_model(model, 'my_model.keras')`. \n"
     ]
    },
    {
     "name": "stdout",
     "output_type": "stream",
     "text": [
      "\u001b[1m7/7\u001b[0m \u001b[32m━━━━━━━━━━━━━━━━━━━━\u001b[0m\u001b[37m\u001b[0m \u001b[1m11s\u001b[0m 1s/step - accuracy: 0.6725 - loss: 0.7931 - val_accuracy: 0.6200 - val_loss: 0.9078\n",
      "Epoch 29/30\n",
      "\u001b[1m7/7\u001b[0m \u001b[32m━━━━━━━━━━━━━━━━━━━━\u001b[0m\u001b[37m\u001b[0m \u001b[1m0s\u001b[0m 929ms/step - accuracy: 0.7020 - loss: 0.7425"
     ]
    },
    {
     "name": "stderr",
     "output_type": "stream",
     "text": [
      "WARNING:absl:You are saving your model as an HDF5 file via `model.save()` or `keras.saving.save_model(model)`. This file format is considered legacy. We recommend using instead the native Keras format, e.g. `model.save('my_model.keras')` or `keras.saving.save_model(model, 'my_model.keras')`. \n"
     ]
    },
    {
     "name": "stdout",
     "output_type": "stream",
     "text": [
      "\u001b[1m7/7\u001b[0m \u001b[32m━━━━━━━━━━━━━━━━━━━━\u001b[0m\u001b[37m\u001b[0m \u001b[1m10s\u001b[0m 1s/step - accuracy: 0.6999 - loss: 0.7441 - val_accuracy: 0.6200 - val_loss: 0.9061\n",
      "Epoch 30/30\n",
      "\u001b[1m7/7\u001b[0m \u001b[32m━━━━━━━━━━━━━━━━━━━━\u001b[0m\u001b[37m\u001b[0m \u001b[1m0s\u001b[0m 870ms/step - accuracy: 0.6574 - loss: 0.7779"
     ]
    },
    {
     "name": "stderr",
     "output_type": "stream",
     "text": [
      "WARNING:absl:You are saving your model as an HDF5 file via `model.save()` or `keras.saving.save_model(model)`. This file format is considered legacy. We recommend using instead the native Keras format, e.g. `model.save('my_model.keras')` or `keras.saving.save_model(model, 'my_model.keras')`. \n"
     ]
    },
    {
     "name": "stdout",
     "output_type": "stream",
     "text": [
      "\u001b[1m7/7\u001b[0m \u001b[32m━━━━━━━━━━━━━━━━━━━━\u001b[0m\u001b[37m\u001b[0m \u001b[1m10s\u001b[0m 1s/step - accuracy: 0.6596 - loss: 0.7758 - val_accuracy: 0.6200 - val_loss: 0.9016\n"
     ]
    }
   ],
   "source": [
    "# Training model\n",
    "history = model.fit(\n",
    "    train_generator,\n",
    "    epochs=30,\n",
    "    validation_data=val_generator,\n",
    "    callbacks=callbacks\n",
    ")"
   ]
  },
  {
   "cell_type": "code",
   "execution_count": 19,
   "id": "65ff6c9a-1052-409c-9394-d860c9cf9f24",
   "metadata": {},
   "outputs": [
    {
     "data": {
      "image/png": "[encoded data removed]",
      "text/plain": [
       "<Figure size 640x480 with 1 Axes>"
      ]
     },
     "metadata": {},
     "output_type": "display_data"
    }
   ],
   "source": [
    "# Plotting training results\n",
    "plt.plot(history.history['accuracy'], label='Train Acc')\n",
    "plt.plot(history.history['val_accuracy'], label='Val Acc')\n",
    "plt.title('Accuracy Over Epochs')\n",
    "plt.xlabel('Epochs')\n",
    "plt.ylabel('Accuracy')\n",
    "plt.legend()\n",
    "plt.show()"
   ]
  },
  {
   "cell_type": "code",
   "execution_count": 20,
   "id": "c2a63d64-f8b7-4737-9e28-f5c673f154cd",
   "metadata": {},
   "outputs": [
    {
     "name": "stdout",
     "output_type": "stream",
     "text": [
      "\u001b[1m2/2\u001b[0m \u001b[32m━━━━━━━━━━━━━━━━━━━━\u001b[0m\u001b[37m\u001b[0m \u001b[1m6s\u001b[0m 3s/step\n",
      "              precision    recall  f1-score   support\n",
      "\n",
      "        acne       0.12      0.10      0.11        10\n",
      "      eczema       0.29      0.20      0.24        10\n",
      "     healthy       0.18      0.20      0.19        10\n",
      "   psoriasis       0.27      0.30      0.29        10\n",
      "    ringworm       0.31      0.40      0.35        10\n",
      "\n",
      "    accuracy                           0.24        50\n",
      "   macro avg       0.23      0.24      0.23        50\n",
      "weighted avg       0.23      0.24      0.23        50\n",
      "\n"
     ]
    },
    {
     "data": {
      "image/png": "[encoded data removed]",
      "text/plain": [
       "<Figure size 800x600 with 2 Axes>"
      ]
     },
     "metadata": {},
     "output_type": "display_data"
    }
   ],
   "source": [
    "import numpy as np\n",
    "from sklearn.metrics import classification_report, confusion_matrix\n",
    "import matplotlib.pyplot as plt\n",
    "import seaborn as sns\n",
    "\n",
    "# Predict on validation data\n",
    "val_generator.reset()\n",
    "pred_probs = model.predict(val_generator)\n",
    "pred_classes = np.argmax(pred_probs, axis=1)\n",
    "true_classes = val_generator.classes\n",
    "class_labels = list(val_generator.class_indices.keys())\n",
    "\n",
    "# Classification report\n",
    "print(classification_report(true_classes, pred_classes, target_names=class_labels))\n",
    "\n",
    "# Confusion matrix\n",
    "cm = confusion_matrix(true_classes, pred_classes)\n",
    "plt.figure(figsize=(8,6))\n",
    "sns.heatmap(cm, annot=True, fmt=\"d\", xticklabels=class_labels, yticklabels=class_labels, cmap=\"Blues\")\n",
    "plt.xlabel(\"Predicted\")\n",
    "plt.ylabel(\"True\")\n",
    "plt.title(\"Confusion Matrix\")\n",
    "plt.show()\n"
   ]
  },
  {
   "cell_type": "markdown",
   "id": "9fe8018b-d5e1-4e14-aa1f-2efd9a28dec7",
   "metadata": {},
   "source": [
    "### Fine-tuning Model"
   ]
  },
  {
   "cell_type": "code",
   "execution_count": 22,
   "id": "43a9aeb7-67be-45fc-b7e4-a8cb1c7f4ac7",
   "metadata": {},
   "outputs": [],
   "source": [
    "# Step 1: Unfreeze last few layers of the base model\n",
    "base_model.trainable = True"
   ]
  },
  {
   "cell_type": "code",
   "execution_count": 23,
   "id": "14980441-a080-43c2-b2dc-1cd30038aded",
   "metadata": {},
   "outputs": [],
   "source": [
    "# Freeze all layers except the last 30\n",
    "for layer in base_model.layers[:-30]:\n",
    "    layer.trainable = False"
   ]
  },
  {
   "cell_type": "code",
   "execution_count": 24,
   "id": "dced4edc-c7d2-4a00-99cd-4b25cf8f4791",
   "metadata": {},
   "outputs": [],
   "source": [
    "# Step 2: Recompile with a lower learning rate\n",
    "model.compile(\n",
    "    optimizer=tf.keras.optimizers.Adam(learning_rate=1e-5),  # Lower LR for fine-tuning\n",
    "    loss='categorical_crossentropy',\n",
    "    metrics=['accuracy']\n",
    ")"
   ]
  },
  {
   "cell_type": "code",
   "execution_count": 25,
   "id": "4926ce6c-9598-4a8e-87cb-4a2fe91fdc30",
   "metadata": {},
   "outputs": [
    {
     "name": "stdout",
     "output_type": "stream",
     "text": [
      "Epoch 1/15\n",
      "\u001b[1m7/7\u001b[0m \u001b[32m━━━━━━━━━━━━━━━━━━━━\u001b[0m\u001b[37m\u001b[0m \u001b[1m0s\u001b[0m 1s/step - accuracy: 0.6011 - loss: 1.0811   "
     ]
    },
    {
     "name": "stderr",
     "output_type": "stream",
     "text": [
      "WARNING:absl:You are saving your model as an HDF5 file via `model.save()` or `keras.saving.save_model(model)`. This file format is considered legacy. We recommend using instead the native Keras format, e.g. `model.save('my_model.keras')` or `keras.saving.save_model(model, 'my_model.keras')`. \n"
     ]
    },
    {
     "name": "stdout",
     "output_type": "stream",
     "text": [
      "\u001b[1m7/7\u001b[0m \u001b[32m━━━━━━━━━━━━━━━━━━━━\u001b[0m\u001b[37m\u001b[0m \u001b[1m33s\u001b[0m 2s/step - accuracy: 0.5966 - loss: 1.0833 - val_accuracy: 0.6600 - val_loss: 0.8944\n",
      "Epoch 2/15\n",
      "\u001b[1m7/7\u001b[0m \u001b[32m━━━━━━━━━━━━━━━━━━━━\u001b[0m\u001b[37m\u001b[0m \u001b[1m0s\u001b[0m 1s/step - accuracy: 0.6168 - loss: 1.0571   "
     ]
    },
    {
     "name": "stderr",
     "output_type": "stream",
     "text": [
      "WARNING:absl:You are saving your model as an HDF5 file via `model.save()` or `keras.saving.save_model(model)`. This file format is considered legacy. We recommend using instead the native Keras format, e.g. `model.save('my_model.keras')` or `keras.saving.save_model(model, 'my_model.keras')`. \n"
     ]
    },
    {
     "name": "stdout",
     "output_type": "stream",
     "text": [
      "\u001b[1m7/7\u001b[0m \u001b[32m━━━━━━━━━━━━━━━━━━━━\u001b[0m\u001b[37m\u001b[0m \u001b[1m17s\u001b[0m 1s/step - accuracy: 0.6172 - loss: 1.0582 - val_accuracy: 0.6600 - val_loss: 0.8890\n",
      "Epoch 3/15\n",
      "\u001b[1m7/7\u001b[0m \u001b[32m━━━━━━━━━━━━━━━━━━━━\u001b[0m\u001b[37m\u001b[0m \u001b[1m0s\u001b[0m 1s/step - accuracy: 0.5850 - loss: 1.0735"
     ]
    },
    {
     "name": "stderr",
     "output_type": "stream",
     "text": [
      "WARNING:absl:You are saving your model as an HDF5 file via `model.save()` or `keras.saving.save_model(model)`. This file format is considered legacy. We recommend using instead the native Keras format, e.g. `model.save('my_model.keras')` or `keras.saving.save_model(model, 'my_model.keras')`. \n"
     ]
    },
    {
     "name": "stdout",
     "output_type": "stream",
     "text": [
      "\u001b[1m7/7\u001b[0m \u001b[32m━━━━━━━━━━━━━━━━━━━━\u001b[0m\u001b[37m\u001b[0m \u001b[1m11s\u001b[0m 2s/step - accuracy: 0.5906 - loss: 1.0659 - val_accuracy: 0.6400 - val_loss: 0.8846\n",
      "Epoch 4/15\n",
      "\u001b[1m7/7\u001b[0m \u001b[32m━━━━━━━━━━━━━━━━━━━━\u001b[0m\u001b[37m\u001b[0m \u001b[1m0s\u001b[0m 966ms/step - accuracy: 0.6418 - loss: 0.9973"
     ]
    },
    {
     "name": "stderr",
     "output_type": "stream",
     "text": [
      "WARNING:absl:You are saving your model as an HDF5 file via `model.save()` or `keras.saving.save_model(model)`. This file format is considered legacy. We recommend using instead the native Keras format, e.g. `model.save('my_model.keras')` or `keras.saving.save_model(model, 'my_model.keras')`. \n"
     ]
    },
    {
     "name": "stdout",
     "output_type": "stream",
     "text": [
      "\u001b[1m7/7\u001b[0m \u001b[32m━━━━━━━━━━━━━━━━━━━━\u001b[0m\u001b[37m\u001b[0m \u001b[1m9s\u001b[0m 1s/step - accuracy: 0.6366 - loss: 1.0063 - val_accuracy: 0.6400 - val_loss: 0.8789\n",
      "Epoch 5/15\n",
      "\u001b[1m7/7\u001b[0m \u001b[32m━━━━━━━━━━━━━━━━━━━━\u001b[0m\u001b[37m\u001b[0m \u001b[1m0s\u001b[0m 1s/step - accuracy: 0.6543 - loss: 0.9590   "
     ]
    },
    {
     "name": "stderr",
     "output_type": "stream",
     "text": [
      "WARNING:absl:You are saving your model as an HDF5 file via `model.save()` or `keras.saving.save_model(model)`. This file format is considered legacy. We recommend using instead the native Keras format, e.g. `model.save('my_model.keras')` or `keras.saving.save_model(model, 'my_model.keras')`. \n"
     ]
    },
    {
     "name": "stdout",
     "output_type": "stream",
     "text": [
      "\u001b[1m7/7\u001b[0m \u001b[32m━━━━━━━━━━━━━━━━━━━━\u001b[0m\u001b[37m\u001b[0m \u001b[1m9s\u001b[0m 1s/step - accuracy: 0.6569 - loss: 0.9575 - val_accuracy: 0.6200 - val_loss: 0.8732\n",
      "Epoch 6/15\n",
      "\u001b[1m7/7\u001b[0m \u001b[32m━━━━━━━━━━━━━━━━━━━━\u001b[0m\u001b[37m\u001b[0m \u001b[1m0s\u001b[0m 1s/step - accuracy: 0.6121 - loss: 1.0252   "
     ]
    },
    {
     "name": "stderr",
     "output_type": "stream",
     "text": [
      "WARNING:absl:You are saving your model as an HDF5 file via `model.save()` or `keras.saving.save_model(model)`. This file format is considered legacy. We recommend using instead the native Keras format, e.g. `model.save('my_model.keras')` or `keras.saving.save_model(model, 'my_model.keras')`. \n"
     ]
    },
    {
     "name": "stdout",
     "output_type": "stream",
     "text": [
      "\u001b[1m7/7\u001b[0m \u001b[32m━━━━━━━━━━━━━━━━━━━━\u001b[0m\u001b[37m\u001b[0m \u001b[1m11s\u001b[0m 1s/step - accuracy: 0.6156 - loss: 1.0197 - val_accuracy: 0.6000 - val_loss: 0.8687\n",
      "Epoch 7/15\n",
      "\u001b[1m7/7\u001b[0m \u001b[32m━━━━━━━━━━━━━━━━━━━━\u001b[0m\u001b[37m\u001b[0m \u001b[1m0s\u001b[0m 1s/step - accuracy: 0.6461 - loss: 0.8349   "
     ]
    },
    {
     "name": "stderr",
     "output_type": "stream",
     "text": [
      "WARNING:absl:You are saving your model as an HDF5 file via `model.save()` or `keras.saving.save_model(model)`. This file format is considered legacy. We recommend using instead the native Keras format, e.g. `model.save('my_model.keras')` or `keras.saving.save_model(model, 'my_model.keras')`. \n"
     ]
    },
    {
     "name": "stdout",
     "output_type": "stream",
     "text": [
      "\u001b[1m7/7\u001b[0m \u001b[32m━━━━━━━━━━━━━━━━━━━━\u001b[0m\u001b[37m\u001b[0m \u001b[1m10s\u001b[0m 1s/step - accuracy: 0.6504 - loss: 0.8363 - val_accuracy: 0.6200 - val_loss: 0.8658\n",
      "Epoch 8/15\n",
      "\u001b[1m7/7\u001b[0m \u001b[32m━━━━━━━━━━━━━━━━━━━━\u001b[0m\u001b[37m\u001b[0m \u001b[1m0s\u001b[0m 1s/step - accuracy: 0.6966 - loss: 0.9194  "
     ]
    },
    {
     "name": "stderr",
     "output_type": "stream",
     "text": [
      "WARNING:absl:You are saving your model as an HDF5 file via `model.save()` or `keras.saving.save_model(model)`. This file format is considered legacy. We recommend using instead the native Keras format, e.g. `model.save('my_model.keras')` or `keras.saving.save_model(model, 'my_model.keras')`. \n"
     ]
    },
    {
     "name": "stdout",
     "output_type": "stream",
     "text": [
      "\u001b[1m7/7\u001b[0m \u001b[32m━━━━━━━━━━━━━━━━━━━━\u001b[0m\u001b[37m\u001b[0m \u001b[1m11s\u001b[0m 1s/step - accuracy: 0.6933 - loss: 0.9165 - val_accuracy: 0.5800 - val_loss: 0.8635\n",
      "Epoch 9/15\n",
      "\u001b[1m7/7\u001b[0m \u001b[32m━━━━━━━━━━━━━━━━━━━━\u001b[0m\u001b[37m\u001b[0m \u001b[1m0s\u001b[0m 1s/step - accuracy: 0.6680 - loss: 0.9041"
     ]
    },
    {
     "name": "stderr",
     "output_type": "stream",
     "text": [
      "WARNING:absl:You are saving your model as an HDF5 file via `model.save()` or `keras.saving.save_model(model)`. This file format is considered legacy. We recommend using instead the native Keras format, e.g. `model.save('my_model.keras')` or `keras.saving.save_model(model, 'my_model.keras')`. \n"
     ]
    },
    {
     "name": "stdout",
     "output_type": "stream",
     "text": [
      "\u001b[1m7/7\u001b[0m \u001b[32m━━━━━━━━━━━━━━━━━━━━\u001b[0m\u001b[37m\u001b[0m \u001b[1m10s\u001b[0m 1s/step - accuracy: 0.6651 - loss: 0.9075 - val_accuracy: 0.6000 - val_loss: 0.8606\n",
      "Epoch 10/15\n",
      "\u001b[1m7/7\u001b[0m \u001b[32m━━━━━━━━━━━━━━━━━━━━\u001b[0m\u001b[37m\u001b[0m \u001b[1m0s\u001b[0m 1s/step - accuracy: 0.7115 - loss: 0.8578  "
     ]
    },
    {
     "name": "stderr",
     "output_type": "stream",
     "text": [
      "WARNING:absl:You are saving your model as an HDF5 file via `model.save()` or `keras.saving.save_model(model)`. This file format is considered legacy. We recommend using instead the native Keras format, e.g. `model.save('my_model.keras')` or `keras.saving.save_model(model, 'my_model.keras')`. \n"
     ]
    },
    {
     "name": "stdout",
     "output_type": "stream",
     "text": [
      "\u001b[1m7/7\u001b[0m \u001b[32m━━━━━━━━━━━━━━━━━━━━\u001b[0m\u001b[37m\u001b[0m \u001b[1m11s\u001b[0m 1s/step - accuracy: 0.7076 - loss: 0.8573 - val_accuracy: 0.5800 - val_loss: 0.8580\n",
      "Epoch 11/15\n",
      "\u001b[1m7/7\u001b[0m \u001b[32m━━━━━━━━━━━━━━━━━━━━\u001b[0m\u001b[37m\u001b[0m \u001b[1m0s\u001b[0m 988ms/step - accuracy: 0.7014 - loss: 0.8581"
     ]
    },
    {
     "name": "stderr",
     "output_type": "stream",
     "text": [
      "WARNING:absl:You are saving your model as an HDF5 file via `model.save()` or `keras.saving.save_model(model)`. This file format is considered legacy. We recommend using instead the native Keras format, e.g. `model.save('my_model.keras')` or `keras.saving.save_model(model, 'my_model.keras')`. \n"
     ]
    },
    {
     "name": "stdout",
     "output_type": "stream",
     "text": [
      "\u001b[1m7/7\u001b[0m \u001b[32m━━━━━━━━━━━━━━━━━━━━\u001b[0m\u001b[37m\u001b[0m \u001b[1m9s\u001b[0m 1s/step - accuracy: 0.7044 - loss: 0.8539 - val_accuracy: 0.5800 - val_loss: 0.8554\n",
      "Epoch 12/15\n",
      "\u001b[1m7/7\u001b[0m \u001b[32m━━━━━━━━━━━━━━━━━━━━\u001b[0m\u001b[37m\u001b[0m \u001b[1m0s\u001b[0m 957ms/step - accuracy: 0.7393 - loss: 0.7610"
     ]
    },
    {
     "name": "stderr",
     "output_type": "stream",
     "text": [
      "WARNING:absl:You are saving your model as an HDF5 file via `model.save()` or `keras.saving.save_model(model)`. This file format is considered legacy. We recommend using instead the native Keras format, e.g. `model.save('my_model.keras')` or `keras.saving.save_model(model, 'my_model.keras')`. \n"
     ]
    },
    {
     "name": "stdout",
     "output_type": "stream",
     "text": [
      "\u001b[1m7/7\u001b[0m \u001b[32m━━━━━━━━━━━━━━━━━━━━\u001b[0m\u001b[37m\u001b[0m \u001b[1m11s\u001b[0m 1s/step - accuracy: 0.7369 - loss: 0.7654 - val_accuracy: 0.5800 - val_loss: 0.8529\n",
      "Epoch 13/15\n",
      "\u001b[1m7/7\u001b[0m \u001b[32m━━━━━━━━━━━━━━━━━━━━\u001b[0m\u001b[37m\u001b[0m \u001b[1m0s\u001b[0m 1s/step - accuracy: 0.7232 - loss: 0.8436  "
     ]
    },
    {
     "name": "stderr",
     "output_type": "stream",
     "text": [
      "WARNING:absl:You are saving your model as an HDF5 file via `model.save()` or `keras.saving.save_model(model)`. This file format is considered legacy. We recommend using instead the native Keras format, e.g. `model.save('my_model.keras')` or `keras.saving.save_model(model, 'my_model.keras')`. \n"
     ]
    },
    {
     "name": "stdout",
     "output_type": "stream",
     "text": [
      "\u001b[1m7/7\u001b[0m \u001b[32m━━━━━━━━━━━━━━━━━━━━\u001b[0m\u001b[37m\u001b[0m \u001b[1m11s\u001b[0m 1s/step - accuracy: 0.7241 - loss: 0.8422 - val_accuracy: 0.6000 - val_loss: 0.8501\n",
      "Epoch 14/15\n",
      "\u001b[1m7/7\u001b[0m \u001b[32m━━━━━━━━━━━━━━━━━━━━\u001b[0m\u001b[37m\u001b[0m \u001b[1m0s\u001b[0m 1s/step - accuracy: 0.7516 - loss: 0.7482  "
     ]
    },
    {
     "name": "stderr",
     "output_type": "stream",
     "text": [
      "WARNING:absl:You are saving your model as an HDF5 file via `model.save()` or `keras.saving.save_model(model)`. This file format is considered legacy. We recommend using instead the native Keras format, e.g. `model.save('my_model.keras')` or `keras.saving.save_model(model, 'my_model.keras')`. \n"
     ]
    },
    {
     "name": "stdout",
     "output_type": "stream",
     "text": [
      "\u001b[1m7/7\u001b[0m \u001b[32m━━━━━━━━━━━━━━━━━━━━\u001b[0m\u001b[37m\u001b[0m \u001b[1m10s\u001b[0m 1s/step - accuracy: 0.7470 - loss: 0.7535 - val_accuracy: 0.5800 - val_loss: 0.8481\n",
      "Epoch 15/15\n",
      "\u001b[1m7/7\u001b[0m \u001b[32m━━━━━━━━━━━━━━━━━━━━\u001b[0m\u001b[37m\u001b[0m \u001b[1m0s\u001b[0m 1s/step - accuracy: 0.7236 - loss: 0.8207"
     ]
    },
    {
     "name": "stderr",
     "output_type": "stream",
     "text": [
      "WARNING:absl:You are saving your model as an HDF5 file via `model.save()` or `keras.saving.save_model(model)`. This file format is considered legacy. We recommend using instead the native Keras format, e.g. `model.save('my_model.keras')` or `keras.saving.save_model(model, 'my_model.keras')`. \n"
     ]
    },
    {
     "name": "stdout",
     "output_type": "stream",
     "text": [
      "\u001b[1m7/7\u001b[0m \u001b[32m━━━━━━━━━━━━━━━━━━━━\u001b[0m\u001b[37m\u001b[0m \u001b[1m11s\u001b[0m 2s/step - accuracy: 0.7251 - loss: 0.8151 - val_accuracy: 0.6000 - val_loss: 0.8471\n"
     ]
    }
   ],
   "source": [
    "# Step 3: Retrain the model\n",
    "fine_tune_epochs = 15  # We'll train for a few more epochs\n",
    "history_fine = model.fit(\n",
    "    train_generator,\n",
    "    epochs=fine_tune_epochs,\n",
    "    validation_data=val_generator,\n",
    "    callbacks=callbacks  # Same early stopping + checkpoint\n",
    ")"
   ]
  },
  {
   "cell_type": "code",
   "execution_count": 26,
   "id": "a6ea83a5-d178-484b-986a-3c9f7b376c5c",
   "metadata": {},
   "outputs": [
    {
     "data": {
      "image/png": "[encoded data removed]",
      "text/plain": [
       "<Figure size 640x480 with 1 Axes>"
      ]
     },
     "metadata": {},
     "output_type": "display_data"
    }
   ],
   "source": [
    "# Step 4: Plot the updated training curves\n",
    "plt.plot(history_fine.history['accuracy'], label='Train Acc (Fine-Tuned)')\n",
    "plt.plot(history_fine.history['val_accuracy'], label='Val Acc (Fine-Tuned)')\n",
    "plt.title('Fine-Tuned Accuracy Over Epochs')\n",
    "plt.xlabel('Epochs')\n",
    "plt.ylabel('Accuracy')\n",
    "plt.legend()\n",
    "plt.show()\n"
   ]
  },
  {
   "cell_type": "code",
   "execution_count": 29,
   "id": "e1ba2130-af0c-480a-a339-115ba05e5ed8",
   "metadata": {},
   "outputs": [
    {
     "name": "stdout",
     "output_type": "stream",
     "text": [
      "Epoch 1/10\n",
      "\u001b[1m7/7\u001b[0m \u001b[32m━━━━━━━━━━━━━━━━━━━━\u001b[0m\u001b[37m\u001b[0m \u001b[1m0s\u001b[0m 981ms/step - accuracy: 0.7496 - loss: 0.8118"
     ]
    },
    {
     "name": "stderr",
     "output_type": "stream",
     "text": [
      "WARNING:absl:You are saving your model as an HDF5 file via `model.save()` or `keras.saving.save_model(model)`. This file format is considered legacy. We recommend using instead the native Keras format, e.g. `model.save('my_model.keras')` or `keras.saving.save_model(model, 'my_model.keras')`. \n"
     ]
    },
    {
     "name": "stdout",
     "output_type": "stream",
     "text": [
      "\u001b[1m7/7\u001b[0m \u001b[32m━━━━━━━━━━━━━━━━━━━━\u001b[0m\u001b[37m\u001b[0m \u001b[1m10s\u001b[0m 1s/step - accuracy: 0.7503 - loss: 0.8093 - val_accuracy: 0.6000 - val_loss: 0.8450\n",
      "Epoch 2/10\n",
      "\u001b[1m7/7\u001b[0m \u001b[32m━━━━━━━━━━━━━━━━━━━━\u001b[0m\u001b[37m\u001b[0m \u001b[1m0s\u001b[0m 1s/step - accuracy: 0.7570 - loss: 0.6977   "
     ]
    },
    {
     "name": "stderr",
     "output_type": "stream",
     "text": [
      "WARNING:absl:You are saving your model as an HDF5 file via `model.save()` or `keras.saving.save_model(model)`. This file format is considered legacy. We recommend using instead the native Keras format, e.g. `model.save('my_model.keras')` or `keras.saving.save_model(model, 'my_model.keras')`. \n"
     ]
    },
    {
     "name": "stdout",
     "output_type": "stream",
     "text": [
      "\u001b[1m7/7\u001b[0m \u001b[32m━━━━━━━━━━━━━━━━━━━━\u001b[0m\u001b[37m\u001b[0m \u001b[1m10s\u001b[0m 1s/step - accuracy: 0.7567 - loss: 0.6976 - val_accuracy: 0.6200 - val_loss: 0.8435\n",
      "Epoch 3/10\n",
      "\u001b[1m7/7\u001b[0m \u001b[32m━━━━━━━━━━━━━━━━━━━━\u001b[0m\u001b[37m\u001b[0m \u001b[1m0s\u001b[0m 995ms/step - accuracy: 0.6672 - loss: 0.8157"
     ]
    },
    {
     "name": "stderr",
     "output_type": "stream",
     "text": [
      "WARNING:absl:You are saving your model as an HDF5 file via `model.save()` or `keras.saving.save_model(model)`. This file format is considered legacy. We recommend using instead the native Keras format, e.g. `model.save('my_model.keras')` or `keras.saving.save_model(model, 'my_model.keras')`. \n"
     ]
    },
    {
     "name": "stdout",
     "output_type": "stream",
     "text": [
      "\u001b[1m7/7\u001b[0m \u001b[32m━━━━━━━━━━━━━━━━━━━━\u001b[0m\u001b[37m\u001b[0m \u001b[1m10s\u001b[0m 1s/step - accuracy: 0.6719 - loss: 0.8116 - val_accuracy: 0.6400 - val_loss: 0.8417\n",
      "Epoch 4/10\n",
      "\u001b[1m7/7\u001b[0m \u001b[32m━━━━━━━━━━━━━━━━━━━━\u001b[0m\u001b[37m\u001b[0m \u001b[1m0s\u001b[0m 1s/step - accuracy: 0.7126 - loss: 0.7516"
     ]
    },
    {
     "name": "stderr",
     "output_type": "stream",
     "text": [
      "WARNING:absl:You are saving your model as an HDF5 file via `model.save()` or `keras.saving.save_model(model)`. This file format is considered legacy. We recommend using instead the native Keras format, e.g. `model.save('my_model.keras')` or `keras.saving.save_model(model, 'my_model.keras')`. \n"
     ]
    },
    {
     "name": "stdout",
     "output_type": "stream",
     "text": [
      "\u001b[1m7/7\u001b[0m \u001b[32m━━━━━━━━━━━━━━━━━━━━\u001b[0m\u001b[37m\u001b[0m \u001b[1m9s\u001b[0m 1s/step - accuracy: 0.7123 - loss: 0.7518 - val_accuracy: 0.6400 - val_loss: 0.8409\n",
      "Epoch 5/10\n",
      "\u001b[1m7/7\u001b[0m \u001b[32m━━━━━━━━━━━━━━━━━━━━\u001b[0m\u001b[37m\u001b[0m \u001b[1m0s\u001b[0m 1s/step - accuracy: 0.7742 - loss: 0.7322   "
     ]
    },
    {
     "name": "stderr",
     "output_type": "stream",
     "text": [
      "WARNING:absl:You are saving your model as an HDF5 file via `model.save()` or `keras.saving.save_model(model)`. This file format is considered legacy. We recommend using instead the native Keras format, e.g. `model.save('my_model.keras')` or `keras.saving.save_model(model, 'my_model.keras')`. \n"
     ]
    },
    {
     "name": "stdout",
     "output_type": "stream",
     "text": [
      "\u001b[1m7/7\u001b[0m \u001b[32m━━━━━━━━━━━━━━━━━━━━\u001b[0m\u001b[37m\u001b[0m \u001b[1m10s\u001b[0m 1s/step - accuracy: 0.7737 - loss: 0.7304 - val_accuracy: 0.6200 - val_loss: 0.8397\n",
      "Epoch 6/10\n",
      "\u001b[1m7/7\u001b[0m \u001b[32m━━━━━━━━━━━━━━━━━━━━\u001b[0m\u001b[37m\u001b[0m \u001b[1m0s\u001b[0m 1s/step - accuracy: 0.7639 - loss: 0.6742"
     ]
    },
    {
     "name": "stderr",
     "output_type": "stream",
     "text": [
      "WARNING:absl:You are saving your model as an HDF5 file via `model.save()` or `keras.saving.save_model(model)`. This file format is considered legacy. We recommend using instead the native Keras format, e.g. `model.save('my_model.keras')` or `keras.saving.save_model(model, 'my_model.keras')`. \n"
     ]
    },
    {
     "name": "stdout",
     "output_type": "stream",
     "text": [
      "\u001b[1m7/7\u001b[0m \u001b[32m━━━━━━━━━━━━━━━━━━━━\u001b[0m\u001b[37m\u001b[0m \u001b[1m10s\u001b[0m 1s/step - accuracy: 0.7597 - loss: 0.6812 - val_accuracy: 0.6200 - val_loss: 0.8380\n",
      "Epoch 7/10\n",
      "\u001b[1m7/7\u001b[0m \u001b[32m━━━━━━━━━━━━━━━━━━━━\u001b[0m\u001b[37m\u001b[0m \u001b[1m0s\u001b[0m 1s/step - accuracy: 0.7295 - loss: 0.7309"
     ]
    },
    {
     "name": "stderr",
     "output_type": "stream",
     "text": [
      "WARNING:absl:You are saving your model as an HDF5 file via `model.save()` or `keras.saving.save_model(model)`. This file format is considered legacy. We recommend using instead the native Keras format, e.g. `model.save('my_model.keras')` or `keras.saving.save_model(model, 'my_model.keras')`. \n"
     ]
    },
    {
     "name": "stdout",
     "output_type": "stream",
     "text": [
      "\u001b[1m7/7\u001b[0m \u001b[32m━━━━━━━━━━━━━━━━━━━━\u001b[0m\u001b[37m\u001b[0m \u001b[1m10s\u001b[0m 1s/step - accuracy: 0.7389 - loss: 0.7202 - val_accuracy: 0.6400 - val_loss: 0.8364\n",
      "Epoch 8/10\n",
      "\u001b[1m7/7\u001b[0m \u001b[32m━━━━━━━━━━━━━━━━━━━━\u001b[0m\u001b[37m\u001b[0m \u001b[1m0s\u001b[0m 987ms/step - accuracy: 0.8046 - loss: 0.6695"
     ]
    },
    {
     "name": "stderr",
     "output_type": "stream",
     "text": [
      "WARNING:absl:You are saving your model as an HDF5 file via `model.save()` or `keras.saving.save_model(model)`. This file format is considered legacy. We recommend using instead the native Keras format, e.g. `model.save('my_model.keras')` or `keras.saving.save_model(model, 'my_model.keras')`. \n"
     ]
    },
    {
     "name": "stdout",
     "output_type": "stream",
     "text": [
      "\u001b[1m7/7\u001b[0m \u001b[32m━━━━━━━━━━━━━━━━━━━━\u001b[0m\u001b[37m\u001b[0m \u001b[1m10s\u001b[0m 1s/step - accuracy: 0.8034 - loss: 0.6702 - val_accuracy: 0.6400 - val_loss: 0.8350\n",
      "Epoch 9/10\n",
      "\u001b[1m7/7\u001b[0m \u001b[32m━━━━━━━━━━━━━━━━━━━━\u001b[0m\u001b[37m\u001b[0m \u001b[1m10s\u001b[0m 1s/step - accuracy: 0.8101 - loss: 0.6245 - val_accuracy: 0.6400 - val_loss: 0.8355\n",
      "Epoch 10/10\n",
      "\u001b[1m7/7\u001b[0m \u001b[32m━━━━━━━━━━━━━━━━━━━━\u001b[0m\u001b[37m\u001b[0m \u001b[1m10s\u001b[0m 1s/step - accuracy: 0.8451 - loss: 0.5860 - val_accuracy: 0.6600 - val_loss: 0.8358\n"
     ]
    }
   ],
   "source": [
    "history_more = model.fit(\n",
    "    train_generator,\n",
    "    epochs=10,\n",
    "    validation_data=val_generator,\n",
    "    callbacks=callbacks\n",
    ")\n"
   ]
  },
  {
   "cell_type": "code",
   "execution_count": 30,
   "id": "8595d025-0060-4d97-a111-28fa8ddddef3",
   "metadata": {},
   "outputs": [
    {
     "data": {
      "image/png": "[encoded data removed]",
      "text/plain": [
       "<Figure size 640x480 with 1 Axes>"
      ]
     },
     "metadata": {},
     "output_type": "display_data"
    }
   ],
   "source": [
    "import matplotlib.pyplot as plt\n",
    "\n",
    "# Combine history from fine-tune + more epochs\n",
    "full_acc = history_fine.history['accuracy'] + history_more.history['accuracy']\n",
    "full_val_acc = history_fine.history['val_accuracy'] + history_more.history['val_accuracy']\n",
    "\n",
    "# Plot\n",
    "plt.plot(full_acc, label='Train Accuracy')\n",
    "plt.plot(full_val_acc, label='Val Accuracy')\n",
    "plt.title('Total Accuracy Over Epochs (Fine-Tuning + Extended)')\n",
    "plt.xlabel('Epochs')\n",
    "plt.ylabel('Accuracy')\n",
    "plt.legend()\n",
    "plt.grid(True)\n",
    "plt.show()\n"
   ]
  },
  {
   "cell_type": "code",
   "execution_count": 27,
   "id": "72d9830e-7f2d-4fa5-93f0-e37d88129d22",
   "metadata": {},
   "outputs": [
    {
     "name": "stdout",
     "output_type": "stream",
     "text": [
      "\u001b[1m2/2\u001b[0m \u001b[32m━━━━━━━━━━━━━━━━━━━━\u001b[0m\u001b[37m\u001b[0m \u001b[1m6s\u001b[0m 3s/step\n",
      "📄 Classification Report:\n",
      "              precision    recall  f1-score   support\n",
      "\n",
      "        acne       0.12      0.10      0.11        10\n",
      "      eczema       0.18      0.20      0.19        10\n",
      "     healthy       0.23      0.30      0.26        10\n",
      "   psoriasis       0.11      0.10      0.11        10\n",
      "    ringworm       0.11      0.10      0.11        10\n",
      "\n",
      "    accuracy                           0.16        50\n",
      "   macro avg       0.15      0.16      0.15        50\n",
      "weighted avg       0.15      0.16      0.15        50\n",
      "\n"
     ]
    },
    {
     "data": {
      "image/png": "[encoded data removed]",
      "text/plain": [
       "<Figure size 800x600 with 2 Axes>"
      ]
     },
     "metadata": {},
     "output_type": "display_data"
    }
   ],
   "source": [
    "import numpy as np\n",
    "from sklearn.metrics import classification_report, confusion_matrix\n",
    "import matplotlib.pyplot as plt\n",
    "import seaborn as sns\n",
    "\n",
    "# Predict on validation data\n",
    "val_generator.reset()\n",
    "pred_probs = model.predict(val_generator)\n",
    "pred_classes = np.argmax(pred_probs, axis=1)\n",
    "true_classes = val_generator.classes\n",
    "class_labels = list(val_generator.class_indices.keys())\n",
    "\n",
    "# Classification report\n",
    "print(\"📄 Classification Report:\")\n",
    "print(classification_report(true_classes, pred_classes, target_names=class_labels))\n",
    "\n",
    "# Confusion matrix\n",
    "cm = confusion_matrix(true_classes, pred_classes)\n",
    "\n",
    "# Plot\n",
    "plt.figure(figsize=(8,6))\n",
    "sns.heatmap(cm, annot=True, fmt=\"d\", cmap=\"Blues\",\n",
    "            xticklabels=class_labels,\n",
    "            yticklabels=class_labels)\n",
    "plt.xlabel(\"Predicted Label\")\n",
    "plt.ylabel(\"True Label\")\n",
    "plt.title(\"Updated Confusion Matrix (After Fine-Tuning)\")\n",
    "plt.show()\n"
   ]
  },
  {
   "cell_type": "code",
   "execution_count": 31,
   "id": "c35b88b6-40cf-4a72-b825-32da7a347aa3",
   "metadata": {},
   "outputs": [],
   "source": [
    "model.save(\"skin_classifier_model_2.keras\")\n"
   ]
  },
  {
   "cell_type": "markdown",
   "id": "c73cdd8b-7140-4171-9550-5816c30286ed",
   "metadata": {},
   "source": [
    "### Improving Model with more Dataset (IMD Process)"
   ]
  },
  {
   "cell_type": "code",
   "execution_count": 1,
   "id": "b338c89d-5a33-46a3-b01b-da3a357b8c01",
   "metadata": {},
   "outputs": [],
   "source": [
    "from icrawler.builtin import GoogleImageCrawler\n",
    "import os"
   ]
  },
  {
   "cell_type": "code",
   "execution_count": null,
   "id": "9717f0a0-9449-4a25-bc1f-c3a672f1affd",
   "metadata": {},
   "outputs": [],
   "source": [
    "# since large amount of image datset will be downloaded, sequential coding would be most efficient with Google Image Crawler"
   ]
  },
  {
   "cell_type": "code",
   "execution_count": 3,
   "id": "f3dd7db1-532d-4bb6-be4b-a0a5939f0e88",
   "metadata": {},
   "outputs": [],
   "source": [
    "def download_images(keyword,file_path,num=100):\n",
    "    crawler = GoogleImageCrawler(storage={'root_dir':file_path})\n",
    "    crawler.crawl(keyword=keyword, max_num=num)"
   ]
  },
  {
   "cell_type": "code",
   "execution_count": null,
   "id": "96542f20-4e7e-49f4-8e55-8cf6d969c49d",
   "metadata": {
    "scrolled": true
   },
   "outputs": [],
   "source": [
    "download_images('acne on black skin', \"raw_new_images/acne\", 70)"
   ]
  },
  {
   "cell_type": "code",
   "execution_count": null,
   "id": "a243041d-70fa-406a-a1e7-db7073e049a4",
   "metadata": {},
   "outputs": [],
   "source": [
    "download_images('eczemaon black skin',\"raw_new_images/eczema\",70)"
   ]
  },
  {
   "cell_type": "code",
   "execution_count": null,
   "id": "6e8691c3-ec3d-4a34-a114-6e42b12f8a3a",
   "metadata": {},
   "outputs": [],
   "source": [
    "download_images('psoriasis on black skin', \"raw_new_images/psoriasis\", 70)"
   ]
  },
  {
   "cell_type": "code",
   "execution_count": null,
   "id": "7e2c93fc-63f3-4c53-a753-44296986e776",
   "metadata": {},
   "outputs": [],
   "source": [
    "download_images('ringworm on black skin', \"raw_new_images/ringworm\", 70)"
   ]
  },
  {
   "cell_type": "code",
   "execution_count": null,
   "id": "9917860c-b234-47d4-8729-5a221117711c",
   "metadata": {},
   "outputs": [],
   "source": [
    "download_images('healthy black skin close up', \"raw_new_images/healthy\", 70)"
   ]
  },
  {
   "cell_type": "code",
   "execution_count": 4,
   "id": "d5d6acd6-f73f-498b-a49d-1121f3679dc4",
   "metadata": {},
   "outputs": [],
   "source": [
    "from PIL import Image\n",
    "import shutil"
   ]
  },
  {
   "cell_type": "code",
   "execution_count": 5,
   "id": "ee416cac",
   "metadata": {},
   "outputs": [],
   "source": [
    "# Updated paths\n",
    "new_data_dir = \"raw_new_images\"  # <-- new image folder with 70 images per class\n",
    "final_data_dir = \"skin_disease_dataset\"  # <-- existing dataset folder\n",
    "target_size = (224, 224)"
   ]
  },
  {
   "cell_type": "code",
   "execution_count": 6,
   "id": "683921f4",
   "metadata": {},
   "outputs": [
    {
     "name": "stdout",
     "output_type": "stream",
     "text": [
      "🧼 Cleaning: acne\n",
      "🧼 Cleaning: eczema\n",
      "🧼 Cleaning: healthy\n",
      "🧼 Cleaning: psoriasis\n",
      "🧼 Cleaning: ringworm\n"
     ]
    }
   ],
   "source": [
    "# Process new images and move them to the main dataset\n",
    "for class_name in os.listdir(new_data_dir):\n",
    "    class_folder = os.path.join(new_data_dir, class_name)\n",
    "    save_folder = os.path.join(final_data_dir, class_name)\n",
    "    os.makedirs(save_folder, exist_ok=True)\n",
    "\n",
    "    print(f\"{emoji_3} Cleaning: {class_name}\")\n",
    "    for filename in os.listdir(class_folder):\n",
    "        file_path = os.path.join(class_folder, filename)\n",
    "        try:\n",
    "            with Image.open(file_path) as img:\n",
    "                img = img.convert(\"RGB\")  # remove alpha channel if any\n",
    "                img = img.resize(target_size)\n",
    "                save_name = filename.split('.')[0] + \".jpg\"\n",
    "                save_path = os.path.join(save_folder, save_name)\n",
    "                img.save(save_path, \"JPEG\")\n",
    "        except Exception as e:\n",
    "            print(f\"{emoji_1} Skipping {file_path}: {e}\")"
   ]
  },
  {
   "cell_type": "code",
   "execution_count": 3,
   "id": "26c2e276",
   "metadata": {},
   "outputs": [
    {
     "name": "stdout",
     "output_type": "stream",
     "text": [
      "📂 Processing: acne\n",
      "✅ Converted: 000057_resize.jpg -> 000057_resize.jpg\n",
      "✅ Converted: acne_16_resize.jpg -> acne_16_resize.jpg\n",
      "✅ Converted: acne_24_resize.jpg -> acne_24_resize.jpg\n",
      "✅ Converted: acne_33_resize.jpg -> acne_33_resize.jpg\n",
      "✅ Converted: acne_40_resize.jpg -> acne_40_resize.jpg\n",
      "✅ Converted: acne_resize_1.jpg -> acne_resize_1.jpg\n",
      "✅ Converted: acne_resize_10.jpg -> acne_resize_10.jpg\n",
      "✅ Converted: acne_resize_11.jpg -> acne_resize_11.jpg\n",
      "✅ Converted: acne_resize_12.jpg -> acne_resize_12.jpg\n",
      "✅ Converted: acne_resize_13.jpg -> acne_resize_13.jpg\n",
      "✅ Converted: acne_resize_14.jpg -> acne_resize_14.jpg\n",
      "✅ Converted: acne_resize_15.jpg -> acne_resize_15.jpg\n",
      "✅ Converted: acne_resize_16.jpg -> acne_resize_16.jpg\n",
      "✅ Converted: acne_resize_17.jpg -> acne_resize_17.jpg\n",
      "✅ Converted: acne_resize_18.jpg -> acne_resize_18.jpg\n",
      "✅ Converted: acne_resize_19.jpg -> acne_resize_19.jpg\n",
      "✅ Converted: acne_resize_2.jpg -> acne_resize_2.jpg\n",
      "✅ Converted: acne_resize_20.jpg -> acne_resize_20.jpg\n",
      "✅ Converted: acne_resize_3.jpg -> acne_resize_3.jpg\n",
      "✅ Converted: acne_resize_4.jpg -> acne_resize_4.jpg\n",
      "✅ Converted: acne_resize_5.jpg -> acne_resize_5.jpg\n",
      "✅ Converted: acne_resize_6.jpg -> acne_resize_6.jpg\n",
      "✅ Converted: acne_resize_7.jpg -> acne_resize_7.jpg\n",
      "✅ Converted: acne_resize_8.jpg -> acne_resize_8.jpg\n",
      "✅ Converted: acne_resize_9.jpg -> acne_resize_9.jpg\n",
      "📂 Processing: eczema\n",
      "✅ Converted: eczema_13_resize.jpg -> eczema_13_resize.jpg\n",
      "✅ Converted: eczema_29_resize.jpg -> eczema_29_resize.jpg\n",
      "✅ Converted: eczema_4_resize.jpg -> eczema_4_resize.jpg\n",
      "✅ Converted: eczema_resize_1.jpg -> eczema_resize_1.jpg\n",
      "✅ Converted: eczema_resize_10.jpg -> eczema_resize_10.jpg\n",
      "✅ Converted: eczema_resize_11.jpg -> eczema_resize_11.jpg\n",
      "✅ Converted: eczema_resize_12.jpg -> eczema_resize_12.jpg\n",
      "✅ Converted: eczema_resize_2.jpg -> eczema_resize_2.jpg\n",
      "✅ Converted: eczema_resize_3.jpg -> eczema_resize_3.jpg\n",
      "✅ Converted: eczema_resize_4.jpg -> eczema_resize_4.jpg\n",
      "✅ Converted: eczema_resize_5.jpg -> eczema_resize_5.jpg\n",
      "✅ Converted: eczema_resize_6.jpg -> eczema_resize_6.jpg\n",
      "✅ Converted: eczema_resize_7.jpg -> eczema_resize_7.jpg\n",
      "✅ Converted: eczema_resize_8.jpg -> eczema_resize_8.jpg\n",
      "✅ Converted: eczema_resize_9.jpg -> eczema_resize_9.jpg\n",
      "📂 Processing: healthy\n",
      "✅ Converted: healthy_resize_1.jpg -> healthy_resize_1.jpg\n",
      "✅ Converted: healthy_resize_10.jpg -> healthy_resize_10.jpg\n",
      "✅ Converted: healthy_resize_11.jpg -> healthy_resize_11.jpg\n",
      "✅ Converted: healthy_resize_13.jpg -> healthy_resize_13.jpg\n",
      "✅ Converted: healthy_resize_14.jpg -> healthy_resize_14.jpg\n",
      "✅ Converted: healthy_resize_15.jpg -> healthy_resize_15.jpg\n",
      "✅ Converted: healthy_resize_16.jpg -> healthy_resize_16.jpg\n",
      "✅ Converted: healthy_resize_2.jpg -> healthy_resize_2.jpg\n",
      "✅ Converted: healthy_resize_3.jpg -> healthy_resize_3.jpg\n",
      "✅ Converted: healthy_resize_4.jpg -> healthy_resize_4.jpg\n",
      "✅ Converted: healthy_resize_5.jpg -> healthy_resize_5.jpg\n",
      "✅ Converted: healthy_resize_6.jpg -> healthy_resize_6.jpg\n",
      "✅ Converted: healthy_resize_7.jpg -> healthy_resize_7.jpg\n",
      "✅ Converted: healthy_resize_8.jpg -> healthy_resize_8.jpg\n",
      "✅ Converted: healthy_resize_9.jpg -> healthy_resize_9.jpg\n",
      "📂 Processing: psoriasis\n",
      "✅ Converted: psoriasis_17_resize.jpg -> psoriasis_17_resize.jpg\n",
      "✅ Converted: psoriasis_33_resize.jpg -> psoriasis_33_resize.jpg\n",
      "✅ Converted: psoriasis_resize_1.jpg -> psoriasis_resize_1.jpg\n",
      "✅ Converted: psoriasis_resize_10.jpg -> psoriasis_resize_10.jpg\n",
      "✅ Converted: psoriasis_resize_11.jpg -> psoriasis_resize_11.jpg\n",
      "✅ Converted: psoriasis_resize_12.jpeg -> psoriasis_resize_12.jpg\n",
      "✅ Converted: psoriasis_resize_13.jpg -> psoriasis_resize_13.jpg\n",
      "✅ Converted: psoriasis_resize_14.jpg -> psoriasis_resize_14.jpg\n",
      "✅ Converted: psoriasis_resize_15.jpg -> psoriasis_resize_15.jpg\n",
      "✅ Converted: psoriasis_resize_16.jpg -> psoriasis_resize_16.jpg\n",
      "✅ Converted: psoriasis_resize_17.jpg -> psoriasis_resize_17.jpg\n",
      "✅ Converted: psoriasis_resize_18.jpg -> psoriasis_resize_18.jpg\n",
      "✅ Converted: psoriasis_resize_19.jpg -> psoriasis_resize_19.jpg\n",
      "✅ Converted: psoriasis_resize_2.jpg -> psoriasis_resize_2.jpg\n",
      "✅ Converted: psoriasis_resize_20.jpg -> psoriasis_resize_20.jpg\n",
      "✅ Converted: psoriasis_resize_21.jpg -> psoriasis_resize_21.jpg\n",
      "✅ Converted: psoriasis_resize_22.jpg -> psoriasis_resize_22.jpg\n",
      "✅ Converted: psoriasis_resize_23.jpg -> psoriasis_resize_23.jpg\n",
      "✅ Converted: psoriasis_resize_24.jpg -> psoriasis_resize_24.jpg\n",
      "✅ Converted: psoriasis_resize_25.jpg -> psoriasis_resize_25.jpg\n",
      "✅ Converted: psoriasis_resize_26.jpg -> psoriasis_resize_26.jpg\n",
      "✅ Converted: psoriasis_resize_27.jpg -> psoriasis_resize_27.jpg\n",
      "✅ Converted: psoriasis_resize_28.jpg -> psoriasis_resize_28.jpg\n",
      "✅ Converted: psoriasis_resize_29.jpg -> psoriasis_resize_29.jpg\n",
      "✅ Converted: psoriasis_resize_3.jpg -> psoriasis_resize_3.jpg\n",
      "✅ Converted: psoriasis_resize_4.jpg -> psoriasis_resize_4.jpg\n",
      "✅ Converted: psoriasis_resize_5.jpg -> psoriasis_resize_5.jpg\n",
      "✅ Converted: psoriasis_resize_6.jpg -> psoriasis_resize_6.jpg\n",
      "✅ Converted: psoriasis_resize_7.jpg -> psoriasis_resize_7.jpg\n",
      "✅ Converted: psoriasis_resize_8.jpg -> psoriasis_resize_8.jpg\n",
      "✅ Converted: psoriasis_resize_9.jpg -> psoriasis_resize_9.jpg\n",
      "📂 Processing: ringworm\n",
      "✅ Converted: ringworm_50_resize.jpg -> ringworm_50_resize.jpg\n",
      "✅ Converted: ringworm_resize_1.jpg -> ringworm_resize_1.jpg\n",
      "✅ Converted: ringworm_resize_10.jpg -> ringworm_resize_10.jpg\n",
      "✅ Converted: ringworm_resize_11.jpg -> ringworm_resize_11.jpg\n",
      "✅ Converted: ringworm_resize_12.jpg -> ringworm_resize_12.jpg\n",
      "✅ Converted: ringworm_resize_13.jpg -> ringworm_resize_13.jpg\n",
      "✅ Converted: ringworm_resize_14.jpg -> ringworm_resize_14.jpg\n",
      "✅ Converted: ringworm_resize_15.jpg -> ringworm_resize_15.jpg\n",
      "✅ Converted: ringworm_resize_2.jpg -> ringworm_resize_2.jpg\n",
      "✅ Converted: ringworm_resize_3.jpg -> ringworm_resize_3.jpg\n",
      "✅ Converted: ringworm_resize_4.jpg -> ringworm_resize_4.jpg\n",
      "✅ Converted: ringworm_resize_5.jpg -> ringworm_resize_5.jpg\n",
      "✅ Converted: ringworm_resize_6.jpg -> ringworm_resize_6.jpg\n",
      "✅ Converted: ringworm_resize_7.jpg -> ringworm_resize_7.jpg\n",
      "✅ Converted: ringworm_resize_8.jpg -> ringworm_resize_8.jpg\n",
      "✅ Converted: ringworm_resize_9.jpg -> ringworm_resize_9.jpg\n"
     ]
    }
   ],
   "source": [
    "## RESIZING IMAGES IN DATASET\n",
    "import os\n",
    "from PIL import Image\n",
    "\n",
    "# Set the path to your dataset folder\n",
    "dataset_path = 'skin_disease_dataset'\n",
    "target_size = (224, 224)\n",
    "\n",
    "# Loop through each class folder\n",
    "for class_name in os.listdir(dataset_path):\n",
    "    class_folder = os.path.join(dataset_path, class_name)\n",
    "    \n",
    "    if not os.path.isdir(class_folder):\n",
    "        continue\n",
    "\n",
    "    print(f\"📂 Processing: {class_name}\")\n",
    "\n",
    "    for filename in os.listdir(class_folder):\n",
    "        if \"resize\" in filename.lower():\n",
    "            file_path = os.path.join(class_folder, filename)\n",
    "            \n",
    "            try:\n",
    "                with Image.open(file_path) as img:\n",
    "                    # Convert to RGB (JPEG can't handle alpha channels)\n",
    "                    img = img.convert('RGB')\n",
    "                    img = img.resize(target_size)\n",
    "\n",
    "                    # Save as JPEG (overwrite or replace with .jpg)\n",
    "                    new_filename = os.path.splitext(filename)[0] + \".jpg\"\n",
    "                    new_path = os.path.join(class_folder, new_filename)\n",
    "                    img.save(new_path, \"JPEG\")\n",
    "\n",
    "                    # Optionally delete the old file if different format\n",
    "                    if file_path != new_path:\n",
    "                        os.remove(file_path)\n",
    "\n",
    "                    print(f\"{emoji_2} Converted: {filename} -> {new_filename}\")\n",
    "\n",
    "            except Exception as e:\n",
    "                print(f\"{emoji_1} Skipped {filename}: {e}\")\n"
   ]
  },
  {
   "cell_type": "code",
   "execution_count": null,
   "id": "15b16ed7",
   "metadata": {},
   "outputs": [],
   "source": []
  },
  {
   "cell_type": "code",
   "execution_count": null,
   "id": "5a2ace8d",
   "metadata": {},
   "outputs": [],
   "source": []
  },
  {
   "cell_type": "code",
   "execution_count": null,
   "id": "d18456e5",
   "metadata": {},
   "outputs": [],
   "source": []
  },
  {
   "cell_type": "code",
   "execution_count": null,
   "id": "60ae19a3",
   "metadata": {},
   "outputs": [],
   "source": []
  },
  {
   "cell_type": "code",
   "execution_count": null,
   "id": "94653282",
   "metadata": {},
   "outputs": [],
   "source": []
  },
  {
   "cell_type": "code",
   "execution_count": null,
   "id": "fb094aea",
   "metadata": {},
   "outputs": [],
   "source": []
  },
  {
   "cell_type": "code",
   "execution_count": null,
   "id": "09121de9",
   "metadata": {},
   "outputs": [],
   "source": []
  },
  {
   "cell_type": "code",
   "execution_count": null,
   "id": "c16442e1",
   "metadata": {},
   "outputs": [],
   "source": []
  },
  {
   "cell_type": "code",
   "execution_count": null,
   "id": "a1485d33",
   "metadata": {},
   "outputs": [],
   "source": []
  },
  {
   "cell_type": "code",
   "execution_count": null,
   "id": "3b036ca0",
   "metadata": {},
   "outputs": [],
   "source": []
  }
 ],
 "metadata": {
  "kernelspec": {
   "display_name": "Python 3",
   "language": "python",
   "name": "python3"
  },
  "language_info": {
   "codemirror_mode": {
    "name": "ipython",
    "version": 3
   },
   "file_extension": ".py",
   "mimetype": "text/x-python",
   "name": "python",
   "nbconvert_exporter": "python",
   "pygments_lexer": "ipython3",
   "version": "3.11.9"
  }
 },
 "nbformat": 4,
 "nbformat_minor": 5
}
